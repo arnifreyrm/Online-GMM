{
 "cells": [
  {
   "cell_type": "code",
   "execution_count": 1,
   "metadata": {},
   "outputs": [],
   "source": [
    "import silence_tensorflow.auto\n",
    "import numpy as np\n",
    "from tensorboard import data\n",
    "import tensorflow as tf\n",
    "import tensorflow_probability as tfp\n",
    "\n",
    "from tqdm import tqdm # progress-meter"
   ]
  },
  {
   "cell_type": "code",
   "execution_count": 2,
   "metadata": {},
   "outputs": [
    {
     "name": "stderr",
     "output_type": "stream",
     "text": [
      "100%|██████████| 10/10 [00:00<00:00, 110.83it/s]"
     ]
    },
    {
     "name": "stdout",
     "output_type": "stream",
     "text": [
      "[0.4109166 0.5890834]\n",
      "[4.7861406  2.47294214]\n",
      "[0.30559934 0.565118  ]\n"
     ]
    },
    {
     "name": "stderr",
     "output_type": "stream",
     "text": [
      "\n"
     ]
    }
   ],
   "source": [
    "def em(dataset, n_classes, n_iterations, random_seed):\n",
    "    n_samples = dataset.shape[0]\n",
    "\n",
    "    np.random.seed(random_seed)\n",
    "\n",
    "    # Initial guesses for the parameters\n",
    "    mus = np.random.rand(n_classes)\n",
    "    sigmas = np.random.rand(n_classes)\n",
    "    class_probs = np.random.dirichlet(np.ones(n_classes))\n",
    "\n",
    "    for em_iter in tqdm(range(n_iterations)):\n",
    "        # E-Step\n",
    "        responsibilities = tfp.distributions.Normal(loc=mus, scale=sigmas).prob(\n",
    "            dataset.reshape(-1, 1)\n",
    "        ).numpy() * class_probs\n",
    "        \n",
    "        responsibilities /= np.linalg.norm(responsibilities, axis=1, ord=1, keepdims=True)\n",
    "\n",
    "        class_responsibilities = np.sum(responsibilities, axis=0)\n",
    "\n",
    "        # M-Step\n",
    "        for c in range(n_classes):\n",
    "            class_probs[c] = class_responsibilities[c] / n_samples\n",
    "            mus[c] = np.sum(responsibilities[:, c] * dataset) / class_responsibilities[c]\n",
    "            sigmas[c] = np.sqrt(\n",
    "                np.sum(responsibilities[:, c] * (dataset - mus[c])**2) / class_responsibilities[c]\n",
    "            )\n",
    "    \n",
    "    return class_probs, mus, sigmas\n",
    "\n",
    "\n",
    "def main():\n",
    "    class_probs_true = [0.6, 0.4]\n",
    "    mus_true = [2.5, 4.8]\n",
    "    sigmas_true = [0.6, 0.3]\n",
    "    random_seed = 42 # for reproducability\n",
    "    n_samples = 1000\n",
    "    n_iterations = 10\n",
    "    n_classes = 2\n",
    "\n",
    "    # generate the data\n",
    "    univariate_gmm = tfp.distributions.MixtureSameFamily(\n",
    "        mixture_distribution=tfp.distributions.Categorical(probs=class_probs_true),\n",
    "        components_distribution=tfp.distributions.Normal(\n",
    "            loc=mus_true,\n",
    "            scale=sigmas_true,\n",
    "        )\n",
    "    )\n",
    "\n",
    "    dataset = univariate_gmm.sample(n_samples, seed=random_seed).numpy()\n",
    "\n",
    "    class_probs, mus, sigmas = em(dataset, n_classes, n_iterations, random_seed)\n",
    "\n",
    "    print(class_probs)\n",
    "    print(mus)\n",
    "    print(sigmas)\n",
    "\n",
    "if __name__ == \"__main__\":\n",
    "    main()"
   ]
  }
 ],
 "metadata": {
  "kernelspec": {
   "display_name": "base",
   "language": "python",
   "name": "python3"
  },
  "language_info": {
   "codemirror_mode": {
    "name": "ipython",
    "version": 3
   },
   "file_extension": ".py",
   "mimetype": "text/x-python",
   "name": "python",
   "nbconvert_exporter": "python",
   "pygments_lexer": "ipython3",
   "version": "3.11.7"
  }
 },
 "nbformat": 4,
 "nbformat_minor": 2
}
