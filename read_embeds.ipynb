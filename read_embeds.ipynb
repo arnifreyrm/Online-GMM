{
 "cells": [
  {
   "cell_type": "code",
   "execution_count": 1,
   "metadata": {},
   "outputs": [],
   "source": [
    "import numpy as np \n",
    "embeds_as_np_vectors = []\n",
    "with open(\"embeds.txt\", \"r\") as f:\n",
    "    for line in f:\n",
    "        embeds_as_np_vectors.append(np.array(eval(line)))\n",
    "embeds_as_np_vectors = np.array(embeds_as_np_vectors)"
   ]
  },
  {
   "cell_type": "code",
   "execution_count": 2,
   "metadata": {},
   "outputs": [
    {
     "data": {
      "text/plain": [
       "array([[ 0.04319843,  0.02034602, -0.00072105, ..., -0.01991846,\n",
       "         0.03043057,  0.02846968],\n",
       "       [-0.01054322,  0.03987776, -0.03178108, ..., -0.02075174,\n",
       "        -0.03327928, -0.00599681],\n",
       "       [-0.00439765,  0.00212361, -0.02463197, ...,  0.01907569,\n",
       "         0.016528  ,  0.00126344],\n",
       "       ...,\n",
       "       [ 0.01895836, -0.01923213,  0.01446859, ..., -0.01641233,\n",
       "         0.02218881, -0.0104579 ],\n",
       "       [-0.00077719, -0.00135283,  0.04308435, ..., -0.01830275,\n",
       "         0.01018946,  0.00448366],\n",
       "       [-0.02171398, -0.00172667, -0.03122022, ..., -0.01526605,\n",
       "         0.01724121, -0.01162157]])"
      ]
     },
     "execution_count": 2,
     "metadata": {},
     "output_type": "execute_result"
    }
   ],
   "source": [
    "embeds_as_np_vectors"
   ]
  }
 ],
 "metadata": {
  "kernelspec": {
   "display_name": "pytorch",
   "language": "python",
   "name": "python3"
  },
  "language_info": {
   "codemirror_mode": {
    "name": "ipython",
    "version": 3
   },
   "file_extension": ".py",
   "mimetype": "text/x-python",
   "name": "python",
   "nbconvert_exporter": "python",
   "pygments_lexer": "ipython3",
   "version": "3.8.5"
  }
 },
 "nbformat": 4,
 "nbformat_minor": 2
}
