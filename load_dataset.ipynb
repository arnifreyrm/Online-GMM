{
 "cells": [
  {
   "cell_type": "code",
   "execution_count": 4,
   "metadata": {},
   "outputs": [
    {
     "name": "stdout",
     "output_type": "stream",
     "text": [
      "(998, 1536)\n"
     ]
    }
   ],
   "source": [
    "# loading from .npy (new), probably use this cell as reference to load the embeddings\n",
    "import numpy as np\n",
    "dataset = np.load('/Users/mk/ActualDev/columbia/4773/project/Online-GMM/embeddings.npy')\n",
    "print(dataset.shape)"
   ]
  },
  {
   "cell_type": "code",
   "execution_count": null,
   "metadata": {},
   "outputs": [],
   "source": [
    "# loading from txt (old)\n",
    "import numpy as np \n",
    "embeds_as_np_vectors = []\n",
    "with open(\"embeds.txt\", \"r\") as f:\n",
    "    for line in f:\n",
    "        embeds_as_np_vectors.append(np.array(eval(line)))\n",
    "embeds_as_np_vectors = np.array(embeds_as_np_vectors)"
   ]
  }
 ],
 "metadata": {
  "kernelspec": {
   "display_name": "pytorch",
   "language": "python",
   "name": "python3"
  },
  "language_info": {
   "codemirror_mode": {
    "name": "ipython",
    "version": 3
   },
   "file_extension": ".py",
   "mimetype": "text/x-python",
   "name": "python",
   "nbconvert_exporter": "python",
   "pygments_lexer": "ipython3",
   "version": "3.8.5"
  }
 },
 "nbformat": 4,
 "nbformat_minor": 2
}
