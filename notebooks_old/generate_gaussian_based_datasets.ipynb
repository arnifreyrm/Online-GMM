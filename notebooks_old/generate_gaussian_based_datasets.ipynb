{
 "cells": [
  {
   "cell_type": "code",
   "execution_count": 1,
   "metadata": {},
   "outputs": [],
   "source": [
    "import numpy as np"
   ]
  },
  {
   "cell_type": "code",
   "execution_count": 28,
   "metadata": {},
   "outputs": [],
   "source": [
    "# Case 1: m gaussians, n dimensions randomly shuffled\n",
    "# Case 2: m gaussians, n dimensions then an m+1 guassian is added\n",
    "# Case 3: m gaussians, n dimensions then one gaussian is removed\n",
    "# all var = 1, but means are different\n",
    "\n",
    "\n",
    "def generate_gaussian(m, n, n_dims, case=\"shuffled\", means_range=(-25, 25), seed=42):\n",
    "    \"\"\"\n",
    "    Case can be shuffled, added, or removed.\n",
    "    If shuffled n samples are generated from the mixture of m gaussians.\n",
    "    If added or removed n*2 samples are generated.\n",
    "    If added first n sampels are sampled from the mixture of m gaussians, then n samples from m+1 gaussian.\n",
    "    If removed first n samples are sampled from the mixture of m gaussians, then n samples from m-1 gaussians.\n",
    "    \"\"\"\n",
    "    if case not in {\"shuffled\", \"added\", \"removed\"}:\n",
    "        raise ValueError(\"Case must be one of 'shuffled', 'added', or 'removed'.\")\n",
    "    \n",
    "    np.random.seed(seed)\n",
    "    means = np.random.uniform(means_range[0], means_range[1], size=(m, n_dims))\n",
    "    cov = np.eye(n_dims)  \n",
    "\n",
    "    if case == \"shuffled\":\n",
    "        samples = []\n",
    "        for i in range(n):\n",
    "            gaussian_idx = np.random.choice(m)\n",
    "            sample = np.random.multivariate_normal(means[gaussian_idx], cov)\n",
    "            samples.append(sample)\n",
    "        return np.array(samples)\n",
    "\n",
    "    elif case == \"added\":\n",
    "        # First n samples from m Gaussians\n",
    "        samples = []\n",
    "        for i in range(n):\n",
    "            gaussian_idx = np.random.choice(m)\n",
    "            sample = np.random.multivariate_normal(means[gaussian_idx], cov)\n",
    "            samples.append(sample)\n",
    "        \n",
    "        # Add an (m+1)-th Gaussian\n",
    "        new_mean = np.random.uniform(-10, 10, size=(1, n_dims))\n",
    "        means = np.vstack([means, new_mean])  \n",
    "        for i in range(n):\n",
    "            gaussian_idx = np.random.choice(m + 1)\n",
    "            sample = np.random.multivariate_normal(means[gaussian_idx], cov)\n",
    "            samples.append(sample)\n",
    "        return np.array(samples)\n",
    "\n",
    "    elif case == \"removed\":\n",
    "        if m <= 1:\n",
    "            raise ValueError(\"Cannot remove a Gaussian if m <= 1.\")\n",
    "        \n",
    "        # First n samples from m Gaussians\n",
    "        samples = []\n",
    "        for i in range(n):\n",
    "            gaussian_idx = np.random.choice(m)\n",
    "            sample = np.random.multivariate_normal(means[gaussian_idx], cov)\n",
    "            samples.append(sample)\n",
    "        \n",
    "        # Remove one Gaussian and sample from the remaining m-1 Gaussians\n",
    "        reduced_means = means[:-1] \n",
    "        for i in range(n):\n",
    "            gaussian_idx = np.random.choice(m - 1)\n",
    "            sample = np.random.multivariate_normal(reduced_means[gaussian_idx], cov)\n",
    "            samples.append(sample)\n",
    "        return np.array(samples)\n"
   ]
  },
  {
   "cell_type": "code",
   "execution_count": 32,
   "metadata": {},
   "outputs": [],
   "source": [
    "# Create datasets\n",
    "# Case 1: m gaussians, n dimensions randomly shuffled\n",
    "# Case 2: m gaussians, n dimensions then an one guassian is added\n",
    "# Case 3: m gaussians, n dimensions then one gaussian is removed\n",
    "n = 20000\n",
    "m = 4 # initial number of gaussians\n",
    "n_dims = 1 # 1d case, can change for higher dimensions\n",
    "shuffled = generate_gaussian(m, n, n_dims, case=\"shuffled\")\n",
    "added = generate_gaussian(m, n, n_dims, case=\"added\")\n",
    "removed = generate_gaussian(m, n, n_dims, case=\"removed\")\n",
    "\n",
    "np.save(\"shuffled.npy\", shuffled) # baseline no distribution shift\n",
    "np.save(\"dist_shift_add_gaus.npy\", added)\n",
    "np.save(\"dist_shift_remove_gaus.npy\", removed)\n"
   ]
  },
  {
   "cell_type": "code",
   "execution_count": 31,
   "metadata": {},
   "outputs": [
    {
     "data": {
      "image/png": "[encoded data removed]",
      "text/plain": [
       "<Figure size 864x432 with 2 Axes>"
      ]
     },
     "metadata": {
      "needs_background": "light"
     },
     "output_type": "display_data"
    }
   ],
   "source": [
    "# Verfication \n",
    "import matplotlib.pyplot as plt\n",
    "n = 10000\n",
    "m = 3\n",
    "samples = generate_gaussian(m, n, 1, case=\"removed\")\n",
    "\n",
    "first_n_samples = samples[:n].flatten()\n",
    "last_n_samples = samples[n:].flatten()\n",
    "\n",
    "plt.figure(figsize=(12, 6))\n",
    "\n",
    "plt.subplot(1, 2, 1)\n",
    "plt.hist(first_n_samples, bins=200, alpha=0.7, color='blue', label='First n Samples')\n",
    "plt.title('First n Samples (m=1 Gaussian)')\n",
    "plt.xlabel('Value')\n",
    "plt.ylabel('Frequency')\n",
    "plt.legend()\n",
    "\n",
    "plt.subplot(1, 2, 2)\n",
    "plt.hist(last_n_samples, bins=200, alpha=0.7, color='orange', label='Last n Samples')\n",
    "plt.title('Last n Samples (m+1 Gaussians)')\n",
    "plt.xlabel('Value')\n",
    "plt.ylabel('Frequency')\n",
    "plt.legend()\n",
    "\n",
    "plt.tight_layout()\n",
    "plt.show()\n"
   ]
  },
  {
   "cell_type": "code",
   "execution_count": null,
   "metadata": {},
   "outputs": [],
   "source": []
  }
 ],
 "metadata": {
  "kernelspec": {
   "display_name": "pytorch",
   "language": "python",
   "name": "python3"
  },
  "language_info": {
   "codemirror_mode": {
    "name": "ipython",
    "version": 3
   },
   "file_extension": ".py",
   "mimetype": "text/x-python",
   "name": "python",
   "nbconvert_exporter": "python",
   "pygments_lexer": "ipython3",
   "version": "3.8.5"
  }
 },
 "nbformat": 4,
 "nbformat_minor": 2
}
