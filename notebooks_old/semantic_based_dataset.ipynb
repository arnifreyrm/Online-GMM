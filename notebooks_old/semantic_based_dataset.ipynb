{
 "cells": [
  {
   "cell_type": "code",
   "execution_count": 68,
   "metadata": {},
   "outputs": [
    {
     "name": "stdout",
     "output_type": "stream",
     "text": [
      "                                                text  \\\n",
      "0  Are you Looking for Couples In Ohio? Search th...   \n",
      "1  The oldest drawings on present day Czech terri...   \n",
      "2  This lighting blog covers a wide range of ligh...   \n",
      "3  Employment Lawyers £60,000 - £69,999 jobs in M...   \n",
      "4  If you want to see how depressing and easily t...   \n",
      "\n",
      "                                                id             dump  \\\n",
      "0  <urn:uuid:0edbd51f-3a98-458f-b40a-c44a5f99ed6b>  CC-MAIN-2019-30   \n",
      "1  <urn:uuid:32464646-35c1-412f-8550-7cd3b12f7f07>  CC-MAIN-2019-30   \n",
      "2  <urn:uuid:6d7a87c3-f746-47df-90d1-f6a75c0e9d1d>  CC-MAIN-2019-30   \n",
      "3  <urn:uuid:dde998ef-2fce-4bba-82c8-b8f6957b9a7a>  CC-MAIN-2019-30   \n",
      "4  <urn:uuid:b37edf3f-9eec-4503-b6b3-af8c6873a034>  CC-MAIN-2019-30   \n",
      "\n",
      "                                                 url                  date  \\\n",
      "0  https://www.ohiosexdating.com/browse/singles,1...  2019-07-17T14:45:00Z   \n",
      "1             https://www.radio.cz/en/related/555305  2019-07-17T15:35:49Z   \n",
      "2                       http://drbulb.com/ask-drbulb  2019-07-18T20:28:56Z   \n",
      "3  https://jobs.legal500.com/jobs/employment/manc...  2019-07-18T19:36:30Z   \n",
      "4  https://www.redstate.com/brandon_morse/2018/10...  2019-07-18T19:20:07Z   \n",
      "\n",
      "                                           file_path language  language_score  \\\n",
      "0  s3://commoncrawl/crawl-data/CC-MAIN-2019-30/se...       en        0.977965   \n",
      "1  s3://commoncrawl/crawl-data/CC-MAIN-2019-30/se...       en        0.972328   \n",
      "2  s3://commoncrawl/crawl-data/CC-MAIN-2019-30/se...       en        0.948113   \n",
      "3  s3://commoncrawl/crawl-data/CC-MAIN-2019-30/se...       en        0.885557   \n",
      "4  s3://commoncrawl/crawl-data/CC-MAIN-2019-30/se...       en        0.976208   \n",
      "\n",
      "   token_count  \n",
      "0          130  \n",
      "1          963  \n",
      "2          110  \n",
      "3          119  \n",
      "4          735  \n",
      "(281731, 9)\n",
      "                                                text  \\\n",
      "0  Are you Looking for Couples In Ohio? Search th...   \n",
      "1  The oldest drawings on present day Czech terri...   \n",
      "2  This lighting blog covers a wide range of ligh...   \n",
      "3  Employment Lawyers £60,000 - £69,999 jobs in M...   \n",
      "4  If you want to see how depressing and easily t...   \n",
      "\n",
      "                                                id             dump  \\\n",
      "0  <urn:uuid:0edbd51f-3a98-458f-b40a-c44a5f99ed6b>  CC-MAIN-2019-30   \n",
      "1  <urn:uuid:32464646-35c1-412f-8550-7cd3b12f7f07>  CC-MAIN-2019-30   \n",
      "2  <urn:uuid:6d7a87c3-f746-47df-90d1-f6a75c0e9d1d>  CC-MAIN-2019-30   \n",
      "3  <urn:uuid:dde998ef-2fce-4bba-82c8-b8f6957b9a7a>  CC-MAIN-2019-30   \n",
      "4  <urn:uuid:b37edf3f-9eec-4503-b6b3-af8c6873a034>  CC-MAIN-2019-30   \n",
      "\n",
      "                                                 url                  date  \\\n",
      "0  https://www.ohiosexdating.com/browse/singles,1...  2019-07-17T14:45:00Z   \n",
      "1             https://www.radio.cz/en/related/555305  2019-07-17T15:35:49Z   \n",
      "2                       http://drbulb.com/ask-drbulb  2019-07-18T20:28:56Z   \n",
      "3  https://jobs.legal500.com/jobs/employment/manc...  2019-07-18T19:36:30Z   \n",
      "4  https://www.redstate.com/brandon_morse/2018/10...  2019-07-18T19:20:07Z   \n",
      "\n",
      "                                           file_path language  language_score  \\\n",
      "0  s3://commoncrawl/crawl-data/CC-MAIN-2019-30/se...       en        0.977965   \n",
      "1  s3://commoncrawl/crawl-data/CC-MAIN-2019-30/se...       en        0.972328   \n",
      "2  s3://commoncrawl/crawl-data/CC-MAIN-2019-30/se...       en        0.948113   \n",
      "3  s3://commoncrawl/crawl-data/CC-MAIN-2019-30/se...       en        0.885557   \n",
      "4  s3://commoncrawl/crawl-data/CC-MAIN-2019-30/se...       en        0.976208   \n",
      "\n",
      "   token_count  \n",
      "0          130  \n",
      "1          963  \n",
      "2          110  \n",
      "3          119  \n",
      "4          735  \n"
     ]
    }
   ],
   "source": [
    "import pandas as pd\n",
    "df = pd.read_parquet(\"./014_00000.parquet\")\n",
    "print(df.head())\n",
    "print(df.shape)\n",
    "# %%\n",
    "import dask.dataframe as dd\n",
    "\n",
    "file_path = \"./014_00000.parquet\"\n",
    "df = dd.read_parquet(file_path)\n",
    "\n",
    "print(df.head())\n",
    "\n",
    "# %%\n",
    "all_texts = df[\"text\"].compute()\n"
   ]
  },
  {
   "cell_type": "code",
   "execution_count": 69,
   "metadata": {},
   "outputs": [
    {
     "data": {
      "text/plain": [
       "array([\"Are you Looking for Couples In Ohio? Search through the profiles below and you may just see your perfect date. Contact them and setup a meet up later tonight. We have thousands of other members that just can't wait to meet somebody just like you!\\nCreate your Totally Free Profile Here\\nWe are a married couple, share 6 children.\\nWe are still the best of friends & would love to share our 'energy' to another female who wouldn't mind some friendship as for playtime FMF,FF,MF.\\nWe ARE NOT an Open Relationship/\\nWe are very commited to each other as well as active with each...\",\n",
       "       \"The oldest drawings on present day Czech territory are lines and\\ngeometrical images created on cave walls by hunters in the early Stone Age,\\nmeaning around 4,200 BC, Právo reported on Tuesday, citing new\\nResearchers have been examining the drawings, which are on the walls of the Kateřina Cave in the Moravian Karst protected nature reserve. The meaning of the drawings is unclear, they say.\\nArchaeologist Martin Golec of Palacký University in Olomouc said his team only recently ascertained that the drawings were in fact prehistoric and were not made in the modern age.\\nA team of Czech divers and land surveyors are the first in Europe to have succeeded in scanning a flooded cave system. Using film footage from the water-filled Chýnov cave in south Bohemia, they created a detailed and accurate three-dimensional map. The main advantage of the so-called videogrammetry is its simplicity and speed.\\nA rescue team was able to free a speleologist trapped in the Nová Drátenická cave in Moravský kras (Moravian Karst) on Sunday. The man’s legs were pinned in an apparent cave-in; a spokesman for the fire brigade confirmed his rescue as complex, as the man was located several hundred metres away from the cave opening. Once freed, the person was taken by helicopter to Brno’s Teaching Hospital. The injuries to his legs were described as serious.\\nA team of explorers recently found the world’s deepest underwater cave located in the eastern part of the Czech Republic. A Czech-Polish expedition, led by the legendary Polish diver Krzysztof Starnawski, descended deep into the flooded limestone cave called Hranice Abyss and found it to be far deeper than previously thought. According to their measurements, the cave is 404 meters deep, 12 meters deeper than the previous record holder, 392-meter-deep Pozzo del Merro in Italy.\\nA team of explorers has just confirmed that Hranice Abyss, located in the eastern part of the Czech Republic, is deepest underwater cave on the planet. A Czech-Polish expedition, led by the legendary Polish diver Krzysztof Starnawski, descended deep into the flooded limestone abyss Hranicka Propast this week and found it to be far deeper than previously thought. The underwater cave is 404 meters deep, making it the deepest underwater cave in the world, 12 meters deeper than the previous record holder, 392-meter-deep Pozzo del Merro in Italy. News of the discovery appeared in the National Geographic which co-funded the expedition.\\nSlovakia’s Mountain Rescue Service has confirmed that a Czech speleologist died in Slovakia at the weekend in a cave-in at a recently discovered natural cave near Banská Bystrica. The man lost consciousness when he was buried under debris in the collapse; colleagues attempted artificial resuscitation but the man’s injuries proved too severe. Some twenty members of the Mountain Rescue Service were called to the scene. The site, known as Jeskyni ztraceného prstenu (Cave of the Lost Ring) was found in June.\\nParamedics took part in a six-hour rescue operation in a cave in Moravský kras on Saturday evening to save a speleologist who was injured at the bottom of the cave. The man, who explored the cave with a team of colleagues, bruised his ankle some 25 metres under ground. The rescuers had to widen one the cave's tunnel to be able to bring the man out and then they had to carry him through difficult and snowy terrain to a site accessible by ambulance.\\nThe region of Broumov with its picturesque rock formations has long attracted tourists and climbers. Now, scientists have revealed that the area has far more to offer - a vast network of sandstone caves hidden below ground. Spanning more than 27 kilometres, the caves are the most extensive underground sandstone labyrinth in Europe. Research work in the area started two years ago and cave explorers have only now finished mapping the whole space. Earlier today I spoke to Petr Kuna from the nature reserve of Broumov and asked him to tell me something\\nThe Czech Republic’s most famous angler has caught a fish weighing 190 kilograms! A giant bomb shelter which was to have served as the operational headquarters of the Czechoslovak communist leadership in the event of a Third World War has become a public attraction. And, a cat is a better companion than you might think. Find out more in Magazine with Daniela Lazarová.\",\n",
       "       'This lighting blog covers a wide range of lighting topics including current events, the lighting industry, and product related blogs. I, Dr. Edison Bulb have 30+ years of lighting experience. My specialties include LED, commercial lighting and sports lighting. I am continuing my learning by keeping up with current lighting events and keeping track of them in this lighting blog.\\nIf you have questions for Dr. Bulb or would like to discuss guest blogging topics please email Dr. Bulb at Edison@drbulb.com or send a message below:',\n",
       "       ...,\n",
       "       'dyna laxative pill side effects\\ncerevisiae strains produced higher glycerol than at low malic acid condition. Growth of tumor cells within microporous hollow fibers: an in vitro model system for studies of immunoprotein transport. Respiratory output following SLN stimulation remained depressed and only gradually recovered to the base-line value. We used genetic and pharmacological manipulations of mouse hippocampal neurons to assess signaling downstream of TrkB. Interestingly, the correlation volume is also roughly constant for the same range of shear rates. Changes in sleep-waking rhythms of rats following a single injection of toluene. Studies on the genetics of biotin-transducing, defective variants of bacteriophage lambda. Indomethacin or amylobarbitone sodium for sleep in rheumatoid arthritis, with some observations on the use of sequential analysis.\\ncan you take a laxative while breastfeeding\\nIssues related to side effect profiles and their impact on treatment compliance and physical health outcomes need to be considered when selecting pharmacotherapy. Using computerized micro-acidimetry, cefotetan was found to be resistant to the hydrolytic action of various enzymes, including those which actively hydrolyse cefotaxime. The electronic effects of ferrocenyl and cyrhetrenyl fragments were investigated by DFT calculation. We assessed the potential of non-linear ADEs to approximate over very large time and space scales the spatial distributions resulting from social behaviors such as swarming and schooling, in which populations are subdivided into many groups of variable size, velocity and directional persistence. The model evaluation was performed by the bootstrap approach and visual predictive check.\\ncan you drink alcohol after taking a laxative\\nCompetitive pricing or promotional decisions are defined as a function of two factors: the relative financial strength of the competitor and the potential marginal profit of the competitive action. B27 - DR4 arthritis and research on symptomatic effects of B27 antigens in rheumatoid polyarthritis and DR4 in ankylosing spondylarthritis. Visualization and quantification of blood flow are essential for the diagnosis and treatment evaluation of cerebrovascular diseases. Although effective treatments are available, young adults are unlikely to seek professional help. Yeast two-hybrid and electrophoretic mobility shift assays (EMSAs) further demonstrated that MS188 complexed with AMS. This study represents an extension to the outer membrane phospholipase A protein (OMPLA) of the docking-based protocols previously developed for quaternary structure predictions of transmembrane oligomeric proteins and for estimating mutational effects on the thermodynamics of protein-protein and protein-DNA association.\\nwhat means laxative drugs\\nIn most eukaryotes, OTase is a hetero-oligomeric complex composed of eight different proteins, in which the STT3 component is believed to be the catalytic subunit. We believe than these atypical imaging findings were caused by changes in the protein concentration within the cyst. We review the limited published literature on this mucocutaneous disorder including its nosology and propose future lines of investigation for better defining its clinical significance and pathogenesis. Herpes zoster ophthalmicus with contralateral hemiplegia: identification of cause. The low-density lipoprotein pathway of cultured Leydig tumor cells. Usually, the greater saphenous vein (GSV) is the gold standard for bypass. Percutaneous retrieval of filters with arm fracture or arm migration is recommended. Rather, hospitals have become more expensive, HMO costs are increasing as fast as those for fee-for-service practices, access to care has deteriorated, cost-containment policies have reduced quality of care, and government regulation has increased instead of decreased. Those who passed both screens underwent confirmatory polysomnography. Approximately half of patients with high-risk prostate cancer can be cured by radical prostatectomy without any adjuvant treatment.\\nwhat are gentle laxative tablets\\nAdults with congenital or acquired facial disfigurement: impact of appearance on social functioning. Some of these compounds may bring about metaplasia of the peritoneum or the development of Mullerian residues. Radiocarpal Injuries: Cone Beam Computed Tomography Arthrography, Magnetic Resonance Arthrography, and Arthroscopic Correlation among 21 Patients. Investigation of more satisfactory treatments is needed, as this condition can be disturbing, debilitating, and sometimes harmful for patients. Ascertainment of self-reported risk behavior during detention and screening for HIV and hepatitis B surface antigen (HBsAg) and antibody to the core (HBcAb) seromarkers.\\nis it safe to take a laxative while breastfeeding\\nOn the histochemical demenstration of peroxidase in the guinea pig cochlea. The modular system consists of an in-line sterilizeable crossflow microfilter, a selection valve that allows injection of sample or standards, a degassing unit, a dilution module, and a FIA manifold with a spectrophotometric UV/VIS detector. Special attention to this area permits early detection of germinal matrix hemorrhage, and neurosonography of neonates should be considered incomplete unless this area has been thoroughly imaged. Bypass grafting from the profunda femoris to the distal anterior tibial artery. In this review, I discuss a number of interesting recent developments in the areas of apoptotic regulation by baculoviruses and the effects of apoptosis on baculovirus replication and pathogenesis. Chlorination of quercetin occurred only at two sites, and the derivates (6-chloroquercetin, 6,8-dichloroquercetin) were more potent antioxidants toward oxidative modification of low-density lipoproteins and ABTS radical formation than the unmodified form. The utilization of the desktop microcomputer, programmable calculator, and scientific calculator has simplified the management of formulas used in pharmacokinetic drug monitoring. Dyslexics, like controls, show apparent duration compression after 20Hz flicker and show normal shifts in apparent temporal frequency after adaptation. Wedge resection is an effective technique for managing postkeratoplasty high astigmatism.\\nlaxative tablets to lose weight\\nA direct correlation exists between the extent and severity of structural changes in the IS/OS junction at OCT, visual functions assessed with perimetry, and disturbance of electrogenesis detected by mfERG and gERG. When cells are exposed to arsenate, their life activities are immediately affected by various biochemical reactions, such as the binding of arsenic to membranes and the substitution of arsenic for phosphate or the choline head of phospholipids in the biological membranes. In Group III, the same amount of cimetidine was given after a sham operation. Role of antibiotic-impregnated intraventricular catheters in the prevention of related infections. It is known that the synthesis of DNA is not essential for constitutive or induced enzyme synthesis.\\nlaxative liquid hirelax syrup uses in hindi\\nThe author discusses four types of strategies that hospitals can employ to maintain or enhance their access to the capital markets during the era of prospective pricing: (1) diversification of assets, (2) diversification of funding sources, (3) assumption of greater risk, and (4) increasing use of financial guarantee intermediaries. Excitation of photoluminescence above the bandgap is unpolarized because it involves molecular orbitals delocalized both in the apical and equatorial directions of the perovskite octahedron. Finally, we suggest there may be poorly understood adverse outcomes pathways related to osmotic gradients and water movement within embryos, the latter causing extreme shifts in tissue osmolality. Black carbon particulate matter emission factors for buoyancy-driven associated gas flares. To eventually use a mathematical model to support clinical decision making, first the model sensitivity needs to be determined.\\nwhat is a good home remedy laxative\\nDissolution of gallstones consisting of cholesterol, calcium carbonate, or calcium phosphate in different solvents left an amorphous organic gel-like substance (the matrix). A Monte Carlo computer program, DEIPHOS has been modified and employed to calculate depth-dose distributions within the 30 cm diameter ICRU tissue-equivalent sphere for initially parallel beams of photons (0.662 to 10 MeV) when the sphere is in an air medium. CLINICAL AND PATHOGENETIC PECULIARITIES OF DEVELOPMENT OF ENDOTHELIAL DYSFUNCTION. Participants discriminated a reference 3D object (cube or sphere) from its deformed shape under three experimental conditions: visual only (on a computer monitor), haptic only (through a point-contact force-feedback device) and visuohaptic simulations. Subarachnoid-pleural fistula treated with noninvasive positive-pressure ventilation. In this study, we have determined the complete sequence of the spa gene from type 18 streptococci. Disc hemorrhage is a sign of progression in normal-tension glaucoma.\\nis colace with laxative safe while breastfeeding\\nThese observations indicate that ursodeoxycholate is unable to increase the maximal biliary secretory rate of sulfobromophthalein (in contrast to taurocholate). The profibrogenic role of transforming growth factor (TGF)-beta in liver has mostly been attributed to hepatic stellate cell activation and excess matrix synthesis. A significant portion of cellular zinc is found in the nucleus where it appears to be critically involved in maintaining genetic stability and in the process of gene expression. The findings of this study suggest that dairy product intake during pregnancy may have an effect on neonatal head circumference, placental weight, and gestational weight gain. A computational model of transcranial-focused ultrasound was constructed and validated against empirical data. Diagnosis of acute pulmonary thromboembolism: electrocardiography, echocardiography, and thoracic radiography.\\nhow to treat a laxative overdose\\nThe restless leg syndrome (RLS) is a neurologic disorder suffering the hemodialysis patients. The relation of allergy reagins to electrophoretic components of serum. The cloning of DAT, NET and 5-HTT and development of selective radioligands for them over the last decade has dramatically increased our understanding of their location, structure and function. Mechanisms of sustained increases of firing rate of neurons in the rat cerebral cortex after polarization: reverberating circuits or modification of synaptic conductance?. Patients (pts) transplanted from January 2000 to March 2003 (Group A) and treated with a conventional protocol were compared with pts submitted to a combined regimen including universal cytomegalovirus (CMV) prophylaxis between April 2003 and July 2005 (Group B).',\n",
       "       'Cargo Hall is one of the most sought-after locations for a stylish event with some old world industrial charm. The venue boasts exquisite views across the city skyline and iconic Yarra River, a few minute’s walk from the hustle and bustle of the city centre. Incorporating modern design whilst retaining its unique nineteenth-century maritime character, Cargo Hall is a vibrant and refreshing addition to Melbourne’s event scene.\\nSituated directly opposite the Melbourne Convention and Exhibition Centre, the venue benefits from the local accommodation and public transport options as well as over 2000 adjacent parking spaces. The raw, industrial heritage of the building shines through in the exposed beams, wide open space, and warehouse feel. Unique characteristics include a contemporary designed suspended mezzanine floor, original truss, heritage floorboards and classic façade. An all weather glass conservatory and abundance of natural light make this the perfect venue for any occasion.\\nCargo Hall can provide unique dinners, cooking experiences, conferencing solutions and dining along the riverside.\\nCargo Hall offers a pillarless and versatile space, suitable for a range of set ups. The mezzanine floor and beautiful green room facility make it the perfect space for creative conferencing, showstopping gala dinners, or interactive cocktail events.\\n|Floorplan File||Floorplan File|\\n|Total Sq. M||343|\\n|Banquet w stage & dancefloor||180|\\n|Venue Pricing||Venue Hire/Minimum Spend|\\n|Number of Rooms||1|\\n|Square Meters||Width||Length||Height||Booths||Theater Capacity||Classroom Capacity||Banquet Capacity||Reception Capacity||Amphitheater Present||Listening Devices Present|',\n",
       "       'The several thousand Common Mergansers that had gathered in a flock on Lake Minnetonka, seen Wednesday, had by the weekend dwindled to perhaps 200. The remaining stretch of open water at the site was at least a quarter mile offshore. My ID was made by enlarging photos that showed some mergansers. I think most of them were mergansers. There was one Canada Goose on the ice, and one Bald Eagle flyover. On Wednesday last week there were at least 17 Bald Eagles on the ice or adjacent shorleine. The location is the main body of the lake east of the Arcola Bridge on County Road 15. The birds were seen from the south shore.'],\n",
       "      dtype=object)"
      ]
     },
     "execution_count": 69,
     "metadata": {},
     "output_type": "execute_result"
    }
   ],
   "source": [
    "data = all_texts    \n",
    "data.to_numpy()"
   ]
  },
  {
   "cell_type": "code",
   "execution_count": 92,
   "metadata": {},
   "outputs": [],
   "source": [
    "from openai import Client\n",
    "# dotenv\n",
    "from dotenv import load_dotenv\n",
    "import os\n",
    "load_dotenv()\n",
    "api_key = os.getenv(\"OPENAI_API_KEY\")\n",
    "client = Client(api_key=api_key)\n"
   ]
  },
  {
   "cell_type": "code",
   "execution_count": 94,
   "metadata": {},
   "outputs": [
    {
     "name": "stderr",
     "output_type": "stream",
     "text": [
      "  0%|          | 0/999 [00:00<?, ?it/s]"
     ]
    },
    {
     "name": "stderr",
     "output_type": "stream",
     "text": [
      "  5%|▍         | 46/999 [00:01<00:38, 24.54it/s]"
     ]
    },
    {
     "name": "stdout",
     "output_type": "stream",
     "text": [
      "Error code: 400 - {'error': {'message': \"This model's maximum context length is 8192 tokens, however you requested 21010 tokens (21010 in your prompt; 0 for the completion). Please reduce your prompt; or completion length.\", 'type': 'invalid_request_error', 'param': None, 'code': None}}\n"
     ]
    },
    {
     "name": "stderr",
     "output_type": "stream",
     "text": [
      " 15%|█▌        | 153/999 [00:03<00:17, 49.74it/s]"
     ]
    },
    {
     "name": "stdout",
     "output_type": "stream",
     "text": [
      "Error code: 400 - {'error': {'message': \"This model's maximum context length is 8192 tokens, however you requested 14199 tokens (14199 in your prompt; 0 for the completion). Please reduce your prompt; or completion length.\", 'type': 'invalid_request_error', 'param': None, 'code': None}}\n"
     ]
    },
    {
     "name": "stderr",
     "output_type": "stream",
     "text": [
      " 17%|█▋        | 165/999 [00:09<02:59,  4.64it/s]"
     ]
    },
    {
     "name": "stdout",
     "output_type": "stream",
     "text": [
      "Error code: 400 - {'error': {'message': \"This model's maximum context length is 8192 tokens, however you requested 8355 tokens (8355 in your prompt; 0 for the completion). Please reduce your prompt; or completion length.\", 'type': 'invalid_request_error', 'param': None, 'code': None}}\n"
     ]
    },
    {
     "name": "stderr",
     "output_type": "stream",
     "text": [
      " 23%|██▎       | 230/999 [00:11<00:32, 23.40it/s]"
     ]
    },
    {
     "name": "stdout",
     "output_type": "stream",
     "text": [
      "Error code: 400 - {'error': {'message': \"This model's maximum context length is 8192 tokens, however you requested 16411 tokens (16411 in your prompt; 0 for the completion). Please reduce your prompt; or completion length.\", 'type': 'invalid_request_error', 'param': None, 'code': None}}\n"
     ]
    },
    {
     "name": "stderr",
     "output_type": "stream",
     "text": [
      " 28%|██▊       | 282/999 [00:12<00:28, 24.82it/s]"
     ]
    },
    {
     "name": "stdout",
     "output_type": "stream",
     "text": [
      "Error code: 400 - {'error': {'message': \"This model's maximum context length is 8192 tokens, however you requested 8342 tokens (8342 in your prompt; 0 for the completion). Please reduce your prompt; or completion length.\", 'type': 'invalid_request_error', 'param': None, 'code': None}}\n"
     ]
    },
    {
     "name": "stderr",
     "output_type": "stream",
     "text": [
      " 34%|███▍      | 344/999 [00:14<00:24, 27.04it/s]"
     ]
    },
    {
     "name": "stdout",
     "output_type": "stream",
     "text": [
      "Error code: 400 - {'error': {'message': \"This model's maximum context length is 8192 tokens, however you requested 15420 tokens (15420 in your prompt; 0 for the completion). Please reduce your prompt; or completion length.\", 'type': 'invalid_request_error', 'param': None, 'code': None}}\n"
     ]
    },
    {
     "name": "stderr",
     "output_type": "stream",
     "text": [
      " 37%|███▋      | 365/999 [00:15<00:51, 12.33it/s]"
     ]
    },
    {
     "name": "stdout",
     "output_type": "stream",
     "text": [
      "Error code: 400 - {'error': {'message': \"This model's maximum context length is 8192 tokens, however you requested 10158 tokens (10158 in your prompt; 0 for the completion). Please reduce your prompt; or completion length.\", 'type': 'invalid_request_error', 'param': None, 'code': None}}\n"
     ]
    },
    {
     "name": "stderr",
     "output_type": "stream",
     "text": [
      " 42%|████▏     | 423/999 [00:17<00:25, 22.19it/s]"
     ]
    },
    {
     "name": "stdout",
     "output_type": "stream",
     "text": [
      "Error code: 400 - {'error': {'message': \"This model's maximum context length is 8192 tokens, however you requested 9071 tokens (9071 in your prompt; 0 for the completion). Please reduce your prompt; or completion length.\", 'type': 'invalid_request_error', 'param': None, 'code': None}}\n"
     ]
    },
    {
     "name": "stderr",
     "output_type": "stream",
     "text": [
      " 43%|████▎     | 432/999 [00:18<00:30, 18.40it/s]"
     ]
    },
    {
     "name": "stdout",
     "output_type": "stream",
     "text": [
      "Error code: 400 - {'error': {'message': \"This model's maximum context length is 8192 tokens, however you requested 14425 tokens (14425 in your prompt; 0 for the completion). Please reduce your prompt; or completion length.\", 'type': 'invalid_request_error', 'param': None, 'code': None}}\n"
     ]
    },
    {
     "name": "stderr",
     "output_type": "stream",
     "text": [
      " 46%|████▋     | 464/999 [00:19<00:23, 23.10it/s]"
     ]
    },
    {
     "name": "stdout",
     "output_type": "stream",
     "text": [
      "Error code: 400 - {'error': {'message': \"This model's maximum context length is 8192 tokens, however you requested 8625 tokens (8625 in your prompt; 0 for the completion). Please reduce your prompt; or completion length.\", 'type': 'invalid_request_error', 'param': None, 'code': None}}\n"
     ]
    },
    {
     "name": "stderr",
     "output_type": "stream",
     "text": [
      " 54%|█████▎    | 536/999 [00:21<00:19, 23.76it/s]"
     ]
    },
    {
     "name": "stdout",
     "output_type": "stream",
     "text": [
      "Error code: 400 - {'error': {'message': \"This model's maximum context length is 8192 tokens, however you requested 10621 tokens (10621 in your prompt; 0 for the completion). Please reduce your prompt; or completion length.\", 'type': 'invalid_request_error', 'param': None, 'code': None}}\n"
     ]
    },
    {
     "name": "stderr",
     "output_type": "stream",
     "text": [
      " 58%|█████▊    | 576/999 [00:22<00:16, 26.34it/s]"
     ]
    },
    {
     "name": "stdout",
     "output_type": "stream",
     "text": [
      "Error code: 400 - {'error': {'message': \"This model's maximum context length is 8192 tokens, however you requested 14929 tokens (14929 in your prompt; 0 for the completion). Please reduce your prompt; or completion length.\", 'type': 'invalid_request_error', 'param': None, 'code': None}}\n"
     ]
    },
    {
     "name": "stderr",
     "output_type": "stream",
     "text": [
      " 59%|█████▉    | 587/999 [00:23<00:20, 20.54it/s]"
     ]
    },
    {
     "name": "stdout",
     "output_type": "stream",
     "text": [
      "Error code: 400 - {'error': {'message': \"This model's maximum context length is 8192 tokens, however you requested 18160 tokens (18160 in your prompt; 0 for the completion). Please reduce your prompt; or completion length.\", 'type': 'invalid_request_error', 'param': None, 'code': None}}\n"
     ]
    },
    {
     "name": "stderr",
     "output_type": "stream",
     "text": [
      " 62%|██████▏   | 621/999 [00:24<00:16, 22.62it/s]"
     ]
    },
    {
     "name": "stdout",
     "output_type": "stream",
     "text": [
      "Error code: 400 - {'error': {'message': \"This model's maximum context length is 8192 tokens, however you requested 20249 tokens (20249 in your prompt; 0 for the completion). Please reduce your prompt; or completion length.\", 'type': 'invalid_request_error', 'param': None, 'code': None}}\n"
     ]
    },
    {
     "name": "stderr",
     "output_type": "stream",
     "text": [
      " 63%|██████▎   | 630/999 [00:24<00:19, 18.92it/s]"
     ]
    },
    {
     "name": "stdout",
     "output_type": "stream",
     "text": [
      "Error code: 400 - {'error': {'message': \"This model's maximum context length is 8192 tokens, however you requested 12617 tokens (12617 in your prompt; 0 for the completion). Please reduce your prompt; or completion length.\", 'type': 'invalid_request_error', 'param': None, 'code': None}}\n"
     ]
    },
    {
     "name": "stderr",
     "output_type": "stream",
     "text": [
      " 72%|███████▏  | 716/999 [00:26<00:05, 52.52it/s]"
     ]
    },
    {
     "name": "stdout",
     "output_type": "stream",
     "text": [
      "Error code: 400 - {'error': {'message': \"This model's maximum context length is 8192 tokens, however you requested 13580 tokens (13580 in your prompt; 0 for the completion). Please reduce your prompt; or completion length.\", 'type': 'invalid_request_error', 'param': None, 'code': None}}\n"
     ]
    },
    {
     "name": "stderr",
     "output_type": "stream",
     "text": [
      " 73%|███████▎  | 727/999 [00:27<00:15, 17.32it/s]"
     ]
    },
    {
     "name": "stdout",
     "output_type": "stream",
     "text": [
      "Error code: 400 - {'error': {'message': \"This model's maximum context length is 8192 tokens, however you requested 8823 tokens (8823 in your prompt; 0 for the completion). Please reduce your prompt; or completion length.\", 'type': 'invalid_request_error', 'param': None, 'code': None}}\n"
     ]
    },
    {
     "name": "stderr",
     "output_type": "stream",
     "text": [
      " 74%|███████▍  | 737/999 [00:28<00:14, 18.05it/s]"
     ]
    },
    {
     "name": "stdout",
     "output_type": "stream",
     "text": [
      "Error code: 400 - {'error': {'message': \"This model's maximum context length is 8192 tokens, however you requested 17034 tokens (17034 in your prompt; 0 for the completion). Please reduce your prompt; or completion length.\", 'type': 'invalid_request_error', 'param': None, 'code': None}}\n"
     ]
    },
    {
     "name": "stderr",
     "output_type": "stream",
     "text": [
      " 76%|███████▌  | 760/999 [00:29<00:08, 27.52it/s]"
     ]
    },
    {
     "name": "stdout",
     "output_type": "stream",
     "text": [
      "Error code: 400 - {'error': {'message': \"This model's maximum context length is 8192 tokens, however you requested 10777 tokens (10777 in your prompt; 0 for the completion). Please reduce your prompt; or completion length.\", 'type': 'invalid_request_error', 'param': None, 'code': None}}\n"
     ]
    },
    {
     "name": "stderr",
     "output_type": "stream",
     "text": [
      " 81%|████████  | 807/999 [00:30<00:09, 20.75it/s]"
     ]
    },
    {
     "name": "stdout",
     "output_type": "stream",
     "text": [
      "Error code: 400 - {'error': {'message': \"This model's maximum context length is 8192 tokens, however you requested 10367 tokens (10367 in your prompt; 0 for the completion). Please reduce your prompt; or completion length.\", 'type': 'invalid_request_error', 'param': None, 'code': None}}\n"
     ]
    },
    {
     "name": "stderr",
     "output_type": "stream",
     "text": [
      " 98%|█████████▊| 981/999 [00:33<00:00, 52.94it/s]"
     ]
    },
    {
     "name": "stdout",
     "output_type": "stream",
     "text": [
      "Error code: 400 - {'error': {'message': \"This model's maximum context length is 8192 tokens, however you requested 40161 tokens (40161 in your prompt; 0 for the completion). Please reduce your prompt; or completion length.\", 'type': 'invalid_request_error', 'param': None, 'code': None}}\n"
     ]
    },
    {
     "name": "stderr",
     "output_type": "stream",
     "text": [
      " 99%|█████████▉| 991/999 [00:35<00:00, 17.11it/s]"
     ]
    },
    {
     "name": "stdout",
     "output_type": "stream",
     "text": [
      "Error code: 400 - {'error': {'message': \"This model's maximum context length is 8192 tokens, however you requested 8378 tokens (8378 in your prompt; 0 for the completion). Please reduce your prompt; or completion length.\", 'type': 'invalid_request_error', 'param': None, 'code': None}}\n"
     ]
    },
    {
     "name": "stderr",
     "output_type": "stream",
     "text": [
      "100%|██████████| 999/999 [00:35<00:00, 28.37it/s]\n"
     ]
    }
   ],
   "source": [
    "from tqdm import tqdm\n",
    "num_embeds_to_gen = 1000\n",
    "from openai import BadRequestError\n",
    "\n",
    "embed_dataset = []\n",
    "for i in tqdm(range(1, num_embeds_to_gen)):\n",
    "    text_sample = data[i]\n",
    "    try:\n",
    "        embed = get_embedding(client, text_sample)[0].embedding\n",
    "        embed = np.array(embed)\n",
    "        embed_dataset.append(embed)\n",
    "    except BadRequestError as e:\n",
    "        print(e)\n",
    "        embed_dataset.append(np.zeros(len(embed_dataset[0])))\n",
    "        continue\n",
    "    \n",
    "    "
   ]
  },
  {
   "cell_type": "code",
   "execution_count": 95,
   "metadata": {},
   "outputs": [],
   "source": [
    "df = pd.DataFrame(all_texts[1:num_embeds_to_gen], columns=[\"text\"])\n",
    "df[\"embedding\"] = embed_dataset"
   ]
  },
  {
   "cell_type": "code",
   "execution_count": 96,
   "metadata": {},
   "outputs": [
    {
     "data": {
      "text/plain": [
       "NearestNeighbors(metric='cosine', n_neighbors=25)"
      ]
     },
     "execution_count": 96,
     "metadata": {},
     "output_type": "execute_result"
    }
   ],
   "source": [
    "# want to search semantically for similar embeddings\n",
    "from utils import get_embedding\n",
    "query1 = \"technology\"\n",
    "query2 = \"cars\"\n",
    "\n",
    "from sklearn.neighbors import NearestNeighbors\n",
    "knn = NearestNeighbors(n_neighbors=25, metric='cosine')\n",
    "knn.fit(embed_dataset)\n",
    "\n",
    "\n"
   ]
  },
  {
   "cell_type": "code",
   "execution_count": null,
   "metadata": {},
   "outputs": [],
   "source": []
  },
  {
   "cell_type": "code",
   "execution_count": 97,
   "metadata": {},
   "outputs": [
    {
     "name": "stdout",
     "output_type": "stream",
     "text": [
      "Query 1:  technology\n",
      "IPTS Working Papers on Corporate R&D and Innovation 05/2015\n",
      "The paper aims at investigating whether Key Enabling Technologies (KETs) can have a role in facilitating regional Smart Specialisation Strategies (S3). Drawing on the economic geography approach to S3, we formulate some hypotheses about the impact that KETs-related knowledge can have on the construction of new regional technological advantages (RTAs). By crossing regional data on patent applications, in KETs-mapped classes of the International Patent Classification (IPC), with a number of regional economic indicators, we test these hypotheses on a panel of 26 European countries over the period 1980-2010. KETs show a positive impact on the construction of new RTAs, pointing to a new “enabling” role for them. KETs also exert a negative moderating role on the RTAs impact of the density of related pre-existing technologies, pointing to the KETs capacity of making the latter less binding in pursuing S3. Overall, the net-impact of KETs is positive, pointing to a new case for plugging KETs in the S3 policy tool-box.\n",
      "-------------------\n",
      "Technologies move beyond VPNs, encryption to prevent break-ins.\n",
      "Security vendors this week will introduce products that move beyond basic encryption and virtual private networking to incorporate technologies to help prevent intrusions and unauthorized connections.\n",
      "AirDefense Inc. is rolling out its new ActiveDefense appliance, which includes functionality that can block intrusion attempts and trap attackers onto a phony, dead-end WLAN connection. Known as AirBlock and AirTrap, the new features work in tandem once an intrusion attempt is detected.\n",
      "When an attacker connects to the network, the appliance identifies the offending session and terminates it. Then, as the attacker tries to re-connect, the appliance starts broadcasting a service set identifier and impersonating a wireless access point. The system forces the attacker to connect to the appliance instead of the access point and then traps the attacker there until he or she either leaves the area or the administrator terminates the persons session.\n",
      "\"Knowing that theres an unauthorized user on your network isnt that much help unless you can do something about it,\" said Jay Chaudhry, CEO of AirDefense, based in Alpharetta, Ga.\n",
      "The company is also working on a technology that would use Global Positioning System data to triangulate the location of attackers attempting to connect to a protected network.\n",
      "AirDefense this week also will release Version 2.0 of its intrusion detection software. The release includes protocol analysis and vendor fingerprinting functionality as well as correlation of network alerts. An updated policy manager enables administrators to set up policies requiring all machines and access points to have Wired Equivalent Privacy enabled or to filter new connections by media access control address.\n",
      "Meanwhile, Latis Networks Inc. is unveiling a WLAN version of its Border Guard intrusion prevention software. Much like ActiveDefense, Border Guard Wireless is designed to prevent attackers from getting a foothold on wireless networks.\n",
      "The software utilizes a user-defined list of machines that are allowed to connect to the network and rejects all other connection attempts. The system includes a granular access- control management feature that lets administrators set different levels of access for each user.\n",
      "For example, an administrator could set up a policy granting Internet-only access privileges to certain departments, while allowing senior management and executives access to the Internet and the internal network.\n",
      "Customers say such advanced protection schemes have been a long time coming to the wireless market.\n",
      "\"The need for this kind of stuff is very clear,\" said Jerry Lebow, co-chairman of Vytek Wireless Inc., a Latis customer and provider of wireless infrastructure products, based in White Plains, N.Y. \"Wireless data is going to be a very big business, and the problem of security in these networks in not insignificant.\"\n",
      "-------------------\n",
      "The probability of a computer-run world has long replaced the possibility of the concept, and the rapid rate with which we are approaching the days in which robots run the place is disturbing. It's so disturbing that Stephen Hawking even warned us to leave the planet before it happens! As funny as Hawking was, it's not likely that he was trolling mankind with his warning but being very serious.\n",
      "Our tech has developed at such an alarming rate that it's inevitable. A robot has already been given citizen status in one country and people are using robots for everything from driving to sex. Robots may already be acting against their humans' wishes based on their own programming; all it will take is a robot to be programmed to make the world a better place before The Terminator happens.\n",
      "Think it's a big conspiracy that's unlikely to happen? Or are you building a bunker? Share your thoughts in the chat!\n",
      "photo courtesy of Wikipedia\n",
      "-------------------\n",
      "|Adaptive Interoperability of Multiple Heterogeneous Agents\n",
      "To enable requester agents to find provider agents in environments with heterogeneous and dynamic information services, we have developed middle agents which serve to increase agent interoperability.\n",
      "|Reusable Environment for Task Structured Intelligent Network Agents (RETSINA)\n",
      "An architecture for developing distributed intelligent software agents that cooperate asynchronously to perform goal-directed information retrieval and information integration in support of a varie\n",
      "|The Robotics Institute is part of the School of Computer Science, Carnegie Mellon University.|\n",
      "Contact Us | Update Instructions\n",
      "-------------------\n",
      "Over the past year or two, NetFuture has consisted of rather long, heavy articles — not at all easy reads. The old \"Quotes and Provocations\" department of the newsletter has remained unused. At this point I hope to start mixing in occasional shorter and more readable notes and commentaries. The current issue, I trust, will fit this category.\n",
      "On another note: if you are curious about the scientific points of view underlying recent NetFuture articles, you may be interested in this year’s two summer courses at the Nature Institute:\n",
      "For details, go to the Nature Institute calendar.\n",
      "Go to table of contents\n",
      "I recently participated in a conference on synthetic biology (the discipline where one attempts to synthesize, in part or in whole, new organisms) at the Hastings Center in the lower Hudson Valley of New York. A rather minor exchange at the very end of the conference has been working on me ever since.\n",
      "The question of the value of artificial flowers (of the conventional sort) had come up, and after a good deal of conversation, I remarked, \"By the way, I’d like to clarify a simple point. There has never been an artificial plant that was even vaguely similar to a real one\". This produced a roomful of blank looks, puzzled expressions, and raised eyebrows — symptoms, I would submit, of the difficulty we have in understanding life today.\n",
      "I went on to explain: a plant is living. It expresses itself into the world as movement. It grows from seed to leaf to flower to fruit to seed. (I ought, at this point, to have mimicked the opening of a flower with my arms.) The plant gestures its existence; this gesturing, not some frozen form or substance, is what it is. No artificial plant duplicates this reality in any meaningful way.\n",
      "As I said, the point has been working on me. It brought to mind a talk I heard ten or fifteen years ago by one of our then-local doctors, Philip Incao. He asked those of us in the audience to close our eyes and take a minute to imagine the human circulatory system. And, yes, we all imagined things — the heart, arteries, veins, red blood cells, and so on. The fact that the circulatory system is a system of movement — that it is most essentially a doing — was hardly uppermost in our minds. Dr. Incao went on to cite a remark by Novalis: the body is a formed stream.\n",
      "My colleague, Craig Holdrege, once illustrated this by explaining how the spiraling fibers of the heart muscle that help to direct the blood in its flow are themselves a congealed image of the swirling vortex of blood within. This kind of mutuality holds even for the heart’s basic structural divisions:\n",
      "Before the heart has developed walls (septa) separating the four chambers from each other, the blood already flows in two distinct \"currents\" through the heart. The [currents] flowing through the right and left sides of the heart do not mix, but stream and loop by each other, just as two currents in a body of water. In the \"still water zone\" between the two currents, the septum dividing the two chambers forms. Thus the movement of the blood gives the parameters for the inner differentiation of the heart, just as the looping heart redirects the flow of blood. (The Dynamic Heart and Circulation, edited by Craig Holdrege. Fair Oaks CA: AWSNA, 2002, p. 12)\n",
      "Our inherited mode of thought today tells us that things produce movement. The more fundamental reality is just the opposite: particular things crystallize out of the right sort of movement. The tendency to materialize and, indeed, mechanize life in our imaginations, when unchecked, pretty much determines our philosophical conclusions about life before we ever get a conversation going on the subject. This is how we manufacture the notion of synthetic life.\n",
      "It happens that in my own talk at the Hastings Center I had quoted the twentieth-century cell biologist, Paul Weiss, to the effect that \"Life is a dynamic process. Logically, the elements of a process can be only elementary processes, and not elementary particles or any other static units\". In a 1963 paper, Weiss wrote:\n",
      "Stable structures that are demonstrable in the living cell, other than chromosomes, have mostly turned out to be secondary derivatives, rather than primary carriers, of cellular organization . . . [There is] such incessant reshuffling of the cell content that even the thought that at last the supramolecular units (particulates) might be linked into a stable framework can be safely dismissed . . . cell contour, intracellular fiber systems, and granules of various descriptions change their configurations and positions continuously, thus ruling out the presence, or at any rate, the relevance, of a consistent three-dimensional cytoskeleton . . . Yet despite the absence of an orderly static frame, the various activities of all parts remain coordinated in the maintenance of a standard pattern of order in any given cell. It is an order of relations rather than of fixed positions. (\"The Cell as Unit\", Journal of Theoretical Biology vol. 5, 1963, pp. 389-97)\n",
      "There are countless molecular processes going on in the cell and organism as a whole, continuing through time, and Weiss points out that these are interlocking processes, like \"civic activities in a community\". Every stage of every process must be in a certain proper correspondence with every stage of every other process. The plant’s movement, in other words, is compounded of countless submovements, and these are harmonized in the distinctive gesturing of the plant as a whole.\n",
      "I find it interesting to compare this line of thought with the notions of someone like AI guru, Ray Kurzweil. After all, artificial intelligence researchers and synthetic biology researchers share much of the same general naïveté about life. In The Age of Spiritual Machines Kurzweil talks about \"reverse engineering\" the brain by analyzing it, thin slice by thin slice, and then \"implementing\" its neurons and their supposed inputs and outputs in a computer.\n",
      "Suppose we could do far better than that. Suppose we didn’t have to be content with merely abstracting a few features from brains — features that a computer engineer such as Kurzweil (or anyone else) happens to think, with rather blatant arbitrariness, are the few that really count. (Actually, there is not a single feature of the embodied brain that is faithfully captured in any computer model. But that is a point for another time.) Assume instead that we could assemble precise replicas of those brain slices, atom by atom, successively adding each slice to the previous ones. Would we then have produced a living brain by artificial means?\n",
      "The question is rather like asking whether an artificial flower is a living flower. It is to have forgotten almost everything about the reality of the brain. What has happened to the movement? For example, as we were assembling those slices, how were the individual cells being nourished? How were the intercellular fluids and blood circulating among them? How were any living processes actually occurring in the cells — the essential chemical signaling that takes place within and between cells, enabling them to retain a living connection to each other; the intricately coordinated replication of DNA; the entire elaborate process of regulation of gene expression; cell division, bringing into movement as it does everything in the cell . . . ?\n",
      "It’s one thing to assemble many pieces of a complex puzzle, and quite another to establish a harmonious coordination among a complex set of interweaving processes — a coordination that would require the setting in motion, at a particular instant, of every one of the countless elements of the cell in exactly the right relation to all the other dynamic processes. And the coordination would have to be so calculated that the thousands of ongoing, continually interpenetrating processes would be held together as a single, coherent whole — held together through all the unforeseeable disturbances and environmental encounters differentially affecting all those interrelated processes as the synthetic organism traverses its path through life. I see little evidence that the \"synbio\" proponents have much appreciation of the real nature of their task.\n",
      "The tendency, I think, is to assume that you need only put the right set of puzzle pieces together, and somehow the processes will automatically start up and proceed as they ought. They will \"emerge\", as the jargon goes, indicating a kind of mystical potential in the puzzle pieces. This is why a number of commentators have recognized in the supposedly all-explaining DNA of modern biology something like an animistic totem or materialized entelechy.\n",
      "Remove this kind of materialized magic, and what would you actually have after assembling the last molecules of your artificial brain? The answer is easy: an object perfectly fitted for display in Madame Tussaud’s wax museum.\n",
      "You may think that such a thought experiment is ridiculously simplistic. I agree. But thought experiments just like this one have been common for decades in fields such as cognitive science. You can be sure that proponents of today’s \"synthetic biology\" will have a penchant for similar mental excursions.\n",
      "At the Hastings conference there were in fact various references to the possibility of assembling a living, single-celled organism from scratch, molecule by molecule — an organism that was \"precisely identical\" to some already living organism. You’ll note what’s going on here. The \"precisely identical\" idea comes from the image of an organism already murdered in the imagination, just like the artificial plant that is \"indistinguishable\" from a real one. The life was removed from the image in advance, and so, of course, the artificial product becomes very persuasive as a replica of the real one.\n",
      "It was evident that a number of the participants (the group was quite diverse) simply took for granted the realistic prospects for such an artificial construction. On my part, I do not even know what could be meant by constructing an artificial cell \"precisely identical\" to a real one. The real cell, after all, is never at two different moments identical to itself, let alone to another cell. It’s as much a gesture as a thing.\n",
      "It’s not only that life is movement. Equally important is the fact that each kind of life displays a qualitatively distinct sort of movement. When we bother to observe a real organism, we find that its gesturing is recognizably different from that of other species. An oak tree does not at all have the same way of being as a weeping willow, nor is an amoeba’s movement (whether at the level of the whole organism or of molecular process) choreographed in the style of a paramecium’s.\n",
      "If and when I hear synthetic biologists discussing among themselves how they will reproduce such a unique gesturing — a gesturing they must carefully and deliberately and knowledgeably compound out of the innumerable molecular activities proceeding simultaneously and interdependently in the cell — all in order to produce from scratch a particular sort of organism with a particular sort of recognizable character, then I will believe they have begun to glimpse a problem that might just conceivably define a synthetic discipline of life. Otherwise, we’re left with little more than the crude and mostly ignorant, trial-and-error manipulation of already living things.\n",
      "The work in synthetic biology as we have it today does in fact rely thoroughly upon already living things. A synthetic construct is inserted into a living organism, and the organism then takes it up (if the experiment is successful) and incorporates it into its own being in its own manner. If you want to know how this actually plays out in reality — how the organism \"does its own thing\" with such foreign materials, often in radically unexpected ways — then check out the website, nontarget.org. No one who fairly reviews that website can come away thinking we have a science of synthetic biology, as opposed to a technologically sophisticated discipline of tinkering.\n",
      "In sum, the imagination at work in synthetic biology is grounded (often without acknowledgment of the fact) in the world of living organisms — organisms that are continually taken for granted, rarely observed as the living, gesturing creatures they are, and then casually employed as a means to assimilate and enliven artificial constructs. The result is viewed as a triumph of clever artifice, which it doubtless is. But this is no reason to lose sight of the creative contribution of the organism itself. Through its living activity it proves wonderfully capable of meeting the contents of its environment — internal or external, natural or artificially constructed — and drawing them up into its own life.\n",
      "Go to table of contents\n",
      "NetFuture, a freely distributed electronic newsletter, is published and copyrighted by The Nature Institute. The editor is Stephen L. Talbott, author of Devices of the Soul: Battling for Our Selves in the Age of Machines (http://natureinstitute.org/txt/st). You may redistribute this newsletter for noncommercial purposes. You may also redistribute individual articles in their entirety, provided the NetFuture url and this paragraph are attached.\n",
      "NetFuture is supported by freely given reader contributions, and could not survive without them. For details and special offers, see http://netfuture.org/support.html .\n",
      "Current and past issues of NetFuture are available on the Web:\n",
      "To subscribe or unsubscribe, go to\n",
      "http://netfuture.org/subscribe.html.If you have problems subscribing or unsubscribing, send mail to: email@example.com.\n",
      "This issue of NetFuture: http://netfuture.org/2010/Mar2510_180.html.\n",
      "Steve Talbott :: NetFuture #180 :: March 25, 2010\n",
      "Go to table of contents\n",
      "Go to NetFuture main page\n",
      "-------------------\n",
      "Latest Context menu Stories\n",
      "As Microsoft recently released its newest platform, Windows 8.1, My Tech Gurus is releasing tips on how to navigate and troubleshoot the new operating system.\n",
      "In relation to computing, a mouse is a pointing device that operates by detecting two-dimensional motion that is relative to the surface that supports it. Typically a mouse is an object held under the user's hand. It may have one or more buttons or wheels which allow the user to perform operations or other features that provide more control or dimensional input. The mouse's motion generally translates into the motion of a cursor on a display. The first mouse prototype was invented in 1963...\n",
      "- A pivoted catch designed to fall into a notch on a ratchet wheel so as to allow movement in only one direction (e.g. on a windlass or in a clock mechanism), or alternatively to move the wheel in one direction.\n",
      "-------------------\n",
      "Expert: Kevin Hoffman\n",
      "Kevin Hoffman is an information architect and design strategist that has been building web stuff since 1995. He is the author of the forthcoming Rosenfeld Media book, “Meeting Design for Makers and Managers.” He founded the distributed design network Seven Heads Design, a network of highly experienced digital design thinkers who operate independently but love working together. Seven Heads clients have included Walmart, Nintendo, Carnegie Mellon University, Central Park of NYC, and public media companies such as WNYC and WHYY. Formerly he served as Experience Director under Jeffrey Zeldman’s Happy Cog, winning awards for work with clients like Zappos, Harvard, Fonts.com, and the United States Holocaust Memorial Museum.\n",
      "-------------------\n",
      "For more than a decade, SPINEN has helped clients with all types of web design and custom application development, from the simplest brochure sites to custom web applications that integrate diverse systems into a client's web presence. We do far more than just make your website attractive - we make it work for you.\n",
      "We own our own hosting facilities, or for enterprise needs, we can set up your web assets on platforms such as Amazon Web Services (AWS). Because SPINEN also provides infrastructure services including managed services for your corporate computer network, we have server and networking specialists on our staff, not just designers and programmers. Our full array of technology services can help you meet and exceed your business goals.\n",
      "Responsive design for a large biotechnology research organization in Huntsville, AL (www.HudsonAlpha.org)\n",
      "-------------------\n",
      "Hira Wajahat – August 31, 2017\n",
      "Sustainable Development Goal #7 states that by 2030, there should be universal access to affordable, injectable anastrozole adductor anastrozole 1mg reliable, and modern energy services. For families\n",
      "who survive on incomes of $2 to $10 per day (almost 56% of global population) each purchase is considered carefully. For customers to Safe Turinabol dose The platform by Tabarnia exhibits Turinabol pills and manifests itself in Barcelona switch to clean energy products and continue using them – instead of reverting to kerosene lamps or candles – businesses must focus not only on the physical products but also on providing an exceptional customer experience. In essence, energy services are a combination of technology & customer service. While companies bringing solar to emerging economies seek disruptive deployment, they need to create an experience for their customer that hooks the customers on to their product offering. This means providing the most seamless service experience to the most price sensitive & difficult to reach customers on earth.\n",
      "This customer experience includes several key components:\n",
      "High-Quality Products: In order to meet customers’ evolving requirements it is critical to listen to customer feedback and implement their requests in future product iterations. Durability of off-grid energy products is also paramount.\n",
      "Financial Inclusion: Vast majority of off-grid customers cannot afford the Buying Methandienone online Vegetable protein shakes for weight loss and Buying Methandienone online gain cash price of\n",
      "SHS hence, consumer financing is essential to reach these households.\n",
      "Last-Mile Sales and Distribution: Customers may be skeptical of solar due to market spoilage or concerns about new technology, however appropriate partnerships give SHS products visibility, increase loyalty and improve their reputation. Reaching last mile customers who may not be able to afford travel through sales teams (who travel long distances by motorbike, bull carts, tractors & even camels) to demonstrate kits, answer questions, and help customers choose the most appropriate kit for their needs is essential.\n",
      "After-Sales Customer Experience: Being able to reach customers across a wide geography is not enough, the Buy Winstrol Depot in USA The ‘no’ to independence shows Winstrol Depot in Barcelona again key is building lasting relationships with customers. Satisfied customers are better paying customers and also refer more customers, leading to increased adoption of energy products.\n",
      "Long-term success for the energy industry depends on creating a positive experience for off-grid customers who deserve high-quality, long-lasting energy products coupled with an incredible customer service experience. The challenge is to accept and understand that this change is much bigger than just innovating business models and new organization design. It’s a change of mindset and way of working. Customer focus cannot be something organizations ‘do’, rather it should reflect who/what an organization ‘is’ and drive everything a company does as a starting point. Responding to changing customer demands requires flexibility and agile delivery teams in order to embed a ‘customer first’\n",
      "-------------------\n",
      "Gina Tourassi has been appointed as director of the National Center for Computational Sciences, a division of the Computing and Computational Sciences Directorate at Oak Ridge National Laboratory.\n",
      "A technology developed at the ORNL and scaled up by Vertimass LLC to convert ethanol into fuels suitable for aviation, shipping and other heavy-duty applications can be price-competitive with conventional fuels\n",
      "The U.S. Department of Energy’s Office of Science announced allocations of supercomputer access to 47 science projects for 2020.\n",
      "Oak Ridge National Laboratory will give college students the chance to practice cybersecurity skills in a real-world setting as a host of the Department of Energy’s fifth collegiate CyberForce Competition on Nov. 16. The event brings together student teams from across the country to compete at 10 of DOE’s national laboratories.\n",
      "Researchers at the Department of Energy’s Oak Ridge National Laboratory have received five 2019 R&D 100 Awards, increasing the lab’s total to 221 since the award’s inception in 1963.\n",
      "A joint research team from Google Inc., NASA Ames Research Center, and the Department of Energy’s Oak Ridge National Laboratory has demonstrated that a quantum computer can outperform a classical computer\n",
      "ORNL and The University of Toledo have entered into a memorandum of understanding for collaborative research.\n",
      "Three researchers at Oak Ridge National Laboratory will lead or participate in collaborative research projects aimed at harnessing the power of quantum mechanics to advance a range of technologies including computing, fiber optics and network communication.\n",
      "Quanex Building Products has signed a non-exclusive agreement to license a method to produce insulating material from ORNL. The low-cost material can be used as an additive to increase thermal insulation performance and improve energy efficiency when applied to a variety of building products.\n",
      "Craig Blue, a program director at the Department of Energy’s Oak Ridge National Laboratory, has been elected a 2019 fellow for SME (formerly known as the Society for Manufacturing Engineers).\n",
      "-------------------\n",
      "Analyze This: Enigma Technologies Raises $1.1M in Seed\n",
      "March 01, 2013\n",
      "Enigma Technologies, a database software provider, has raised $1.1 million in seed funding from TriplePoint Capital, Crosslink Capital and individual investors. The NY-based company allows professionals to discover hidden facts and connections across the messy universe of public data. Enigma plans to use the funds to significantly grow its user base.\n",
      "-------------------\n",
      "Are you a content provider? We can deliver your products to the appropriate audience increasing immediately your sales.\n",
      "Through our wide offer and our marketing capabilities, we provide to our partners the best sale solution to their products.\n",
      "Knowing how to find the right idea or creating original and high quality contents are only a part of a broader and more complicated process: reaching customers, through the correct channels, and being able to offer the best services are also fundamental steps.\n",
      "We not only ensure the best visibility for your content, but we also ensure that it’s directed to those users most interested in your product.\n",
      "LANCIO PAY, offers you a mobile billing platform that will allow you to bill customers via mobile credit, providing a secure billing system, directly integrated with the mobile carriers.\n",
      "In the digital market, it’s essential to have an agile and flexible billing platform that allow different solutions, thus facilitating consumers during the purchasing process.\n",
      "With LANCIO PAY you can offer a quick and discreet payment option to your customers. No need to use credit cards or prepaid cards. Customers will be able to use directly their phone credit to purchase your products or services making transactions easier and faster.\n",
      "Nowadays mobile users can stay connected on the net 24/7. In this context, digital entertainment business is growing in parallel to the diffusion of the devices and the development of related technologies, making it one of the most flourishing and solid businesses. It is therefore essential to keep pace with the times, offering an excellent and usable product, in line with the new devices.\n",
      "LANCIO ENTERTAINMENT offers a wide and versatile range of services capable of reaching large audiences.\n",
      "We managed more than 100 services, for top international carriers, divided into different categories ensuring the best customer experience.\n",
      "LANCIO ENTERTAINMENT is a Mobile Content Service Provider that operates with expertise and focus in the business of (PREMIUM) VAS on Italian and European market since 2002. We have a proven experience in creating solutions for carriers and content provider, combined with excellent skills on the most innovatives platforms. In addition, we support companies in the analysis of market and planning marketing campaigns, creating innovative business scenarios offered by the modernity of mobile devices and integrating architectures for the distribution of Value Added Services. We offer an eclectic and varied range of services and products to satisfy every requirement, helping anyone who wants to enter, or increase their presence, in the mobile entertainment business in a specific and differentiated way.\n",
      "Phone: +39 06 33 50 644\n",
      "Fax: +39 06 33 50 632\n",
      "Thank you! Your submission has been received!\n",
      "Oops! Something went wrong while submitting the form :(\n",
      "-------------------\n",
      "e-Business Roadmap for Success (2nd Edition) [Ravi Kalakota, Marcia Robinson] on *FREE* shipping on qualifying offers. Revolutions begin. Download Citation on ResearchGate | On Jan 1, , Ravi Kalakota and others published E-business – roadmap for success (2. ed.). }. e-Business: Roadmap for Success. Ravi Kalakota, University of Rochester. Marcia Robinson Online purchase price, $ Net price, Instructors, sign in here.\n",
      "|Published (Last):||28 December 2012|\n",
      "|PDF File Size:||1.67 Mb|\n",
      "|ePub File Size:||11.17 Mb|\n",
      "|Price:||Free* [*Free Regsitration Required]|\n",
      "Tomorrow’s winners have re-architected themselves to leverage e-business technologies, processes, and culture — and to overcome the obstacles that stand in their way.\n",
      "E-Business: Roadmap for Success – Ravi Kalakota, Marcia Robinson – Google Books\n",
      "Roadmap for Success Addison-Wesley information technology series. Ravi KalakotaMarcia Robinson. To survive and succeed in today’s complex business world, all companies–from established industry leaders to feisty upstarts–must develop a strategy that allows them to take maximum advantage of the latest trends in technology.\n",
      "In addition to e–business information on application framework design, the book now features more detail on strategy and e-business execution.\n",
      "e-Business: Roadmap for Success\n",
      "Ravi Kalakota is a pioneer in the area of e-commerce. She has extensive experience in the service delivery and customer side of e-business for the financial services industry. Series This product is part of the following series. If you’re interested in creating a cost-saving package for your students, contact your Pearson rep. She has extensive experience in the service delivery and customer side of e-business for the financial services industry. This book explains why so many companies are “in denial” about electronic business — and how you can break through to make real change.\n",
      "Roadmap for Success is grounded in detailed case studies and the authors’ extensive experience in implementing e-business initiatives at many of e-businness world’s largest companies. We don’t recognize your username or password.\n",
      "When the history of e-business is written–perhaps sooner than we think–this book will go down as a management landmark that helped clear the fog of mumbo jumbo and provided a beacon through which managers could chart their course. Managers must manage dr.ravl the fog of this technology revolution.\n",
      "Sign In We’re sorry! From start to finish, it is realistic, insightful, and, above all, actionable. Ravi KalakotaMarcia Robinson. Read, highlight, and take notes, across web, tablet, and phone. Roadmap for Success shows you how, one step at a time. This title is out of print.\n",
      "Marcia Robinson is the cofounder and president of e-Business Strategies. Tomorrow’s winners have re-architected themselves to leverage e-business technologies, processes, and culture — and to overcome the obstacles My -ebusiness Help Advanced Book Search.\n",
      "Wirtz Limited preview – Click on a series title to see the full list of products in the series. Other editions – View all E-business 2. Electronic Business Bernd W. Addison-Wesley Information Technology Series. About the Author s.\n",
      "Ravi Kalakota and Marcia Robinson present an innovative application framework that guides the migration from a traditional business model to an e-business model. Description Focuses on the business architecture that managers must build to achieve e-Business success. He is the CEO of e-Business Strategies, a technology research and consulting practice, and has consulted extensively with start-ups and Fortune companies.\n",
      "Marcia Robinson is the cofounder and president of e-Business Strategies. Account Options Sign in. You foe do it too, and e-Business: Availability This title is out of print.\n",
      "-------------------\n",
      "One day your hard drive could just be a pile of plastic. Researchers have coded a word into short chains of plastic molecules, which could be used as a space-saving way to store our mountains of data – or even to reveal counterfeit goods.\n",
      "DNA has shown some promise in holding millions of bits of information in a tiny volume. But DNA is fragile and hard to write and read. So Jean-François Lutz at the Institut Charles Sadron in Strasbourg, France, has been experimenting with more customisable chains of plastic molecules that can encode information in similar ways.\n",
      "Also known as polymers, these chains are made up of two kinds of molecules that stand for the 1s and 0s of digital computer code. Previous research has seen data stored in single long chains, but these become harder to read as the length increases, so the storage record stands at just 10 bits.\n",
      "Lutz’s team had a different approach. “Instead of making very long chains, the idea is to create a library of very short chains,” he says. As a demonstration, the team wrote the acronym CNRS, the abbreviation for the French National Center for Scientific Research, across six polymers – a 32-bit message when encoded using standard ASCII characters.\n",
      "The researchers read the message by sorting the chains from shortest to longest using a mass spectrometer and then sequencing the chains by breaking them apart molecule-by-molecule. The shorter chains, less than a nanometre each, are easier to manage than one long one, while their varying length keeps the data in the right order.\n",
      "“I think it’s an encouraging step,” says Luis Ceze at the University of Washington in Seattle.\n",
      "To store big chunks of information, researchers will have to scale up the technology to make large libraries of chains, Ceze says. In addition, it would be quicker to write data into the molecules if the chains could be synthesised in parallel rather than one at a time, he adds\n",
      "While writing and reading these polymers is currently expensive, there are some high-end uses for them. Embedding coded polymers in pricey electronics or artworks could label them with the maker’s or owner’s identity, says Lutz. Reading a sample of the molecule chains would let investigators discover the source of the object, helping them find counterfeits and stolen goods.\n",
      "Both DNA and synthetic polymers have the potential to shrink the size needed for data storage, says Reza Zadegan at Boise State University in Idaho. That’s important, since the world’s data is piling up faster than our ability to store it. In 2040, the amount of space needed to keep our data in silicon chips could be as large as a small country, perhaps twice the size of Liechtenstein, he says.\n",
      "Using several types of molecules would let researchers write in a code that packs more information into shorter sequences than binary 0s and 1s can, says Zadegan. While scientists have introduced two artificial letters into DNA for a total of six letters, it could be simpler to design an entirely new plastic molecule alphabet. “These polymers are perhaps easier to deal with if you want to expand the language,” he says.\n",
      "Journal reference: Angewandte Chemie International Edition, DOI: 10.1002/anie.201605279\n",
      "More on these topics:\n",
      "-------------------\n",
      "Combobulator is a gateway that converts DICOM measurements and data into perfectly formatted HL7 reports.\n",
      "EMR, now what?\n",
      "EMR and dictation platforms are a great place to build reports. However, using them for this purpose creates some challenges:\n",
      "- Measurements, which used to go to PACS, now need to arrive at the EMR or Dictation via HL7.\n",
      "- Many instruments don’t do HL7 very well, and manual data entry by technologists is incredibly time-consuming and error prone.\n",
      "- EMR vendors’ time is better spent improving their product, not helping you.\n",
      "- Trying to adapt your EMR to your modalities is expensive.\n",
      "Creating vendor specific interfaces severely limits your future purchase options.\n",
      "These are a set of realities faced by a significant number of clinicians and managers; Driving many to mistakenly “bite the bullet” and ask their EMR vendor to engage in costly one-off projects, thereby creating a long-term support challenge.\n",
      "We can help\n",
      "(Way) back in 2011 we were approached by a number of instrument vendors to help solve exactly this challenge for their clients. The happy fruit of this joint effort are a number of products, one of which is the Combobulator.\n",
      "This marvel of efficient design is able to:\n",
      "- Retrieve both standard and non-standard measurements from DICOM SR output.\n",
      "- Format these measurements into clinically appropriate tables.\n",
      "- Export these tables as pre-formatted HL7 directly into EMR and RIS.\n",
      "The Combobulator can do this for many brands of instruments. It’s both our specialty and our pleasure to ensure yours is on the list.\n",
      "How does it work?\n",
      "Combobulator sits between your device and the EMR:\n",
      "- Your instrument is configured to point to the Combobulator instead of, or in addition to, the PACS\n",
      "- Combobulator receives and parses measurements from the DICOM SR payload\n",
      "- Combobulator then creates an HL7 message and transmits it along to the EMR\n",
      "What is the impact on the technologist?\n",
      "There are many ways that technologists can be positively impacted, some of them include:\n",
      "- Not having to spend time with data entry, technologists can focus on patients and, often, reduce the number of trips to and from the examination room.\n",
      "- Depending on your particular workflow, technologists may not require continuous access to either the PACS or EMR. Optional visual confirmation can still be performed, but is not required for proper storage.\n",
      "- Reduced time spent with each study means that the pace of hiring is reduced as your clinic expands.\n",
      "- It’s no secret that manually inputting long series of numbers is frustrating – the gateway can help improve morale.\n",
      "- Windows executable, runs as a system service\n",
      "- Receives instances as a Store SCP\n",
      "- Transmits to EMR via a compatible interface\n",
      "- Any modality that outputs DICOM Structured Report data\n",
      "Supported EMR Systems\n",
      "- Any EMR capable of receiving HL7 ORU messages comprised of OBX segments\n",
      "- US, CT, DR, MR, SC, RAW Storage SCU/SCP\n",
      "- SR Storage SCU/SCP\n",
      "- Verification SCU/SCP\n",
      "- HL7 Client Mode\n",
      "- x86 or x 64 CPU at 2 GHz minumum\n",
      "- 2 GB memory for 32-bit and 4 GB for 64-bit operation\n",
      "- Windows XP SP3, Vista, 7, 8, 2003 Server, or 2008 Server\n",
      "- 200 MB of storage, for binary and ﬁrst three years of logs ﬁles\n",
      "- TCP access to both modality and destination EMR systems\n",
      "-------------------\n",
      "- United Kingdom\n",
      "- UI/UX design\n",
      "- Web design/development\n",
      "- Website maintenance\n",
      "Evolving WordPress and WooCommerce sites so they perform at their best and achieve your commercial goals.\n",
      "At Atomic Smash, we believe change is good. Our ethos is that a digital platform is never finished. Instead, it should constantly be adapting and responding to the needs of your customers and your business.\n",
      "We’ll help you evolve your platform to solve the day-to-day challenges you face and turn problems into opportunities. We love partnering with collaborative clients. That means getting right under the hood to fully understand your business and find the best digital solutions. And though we might write code, we don’t speak in one.\n",
      "Founded in Bristol, UK in 2010, we’re serious WordPress and WooCommerce specialists. Expertise that, like your platform, is constantly evolving thanks to our curiosity and love of learning. That way, we always deliver on our promises to you.\n",
      "Whether we’re providing continuous delivery for your WordPress site through our Always Evolving model with ongoing refinements and improvements or taking on a new project from scratch, we’re there to be your digital partner for the long-term.\n",
      "We'll be updating, evolving, and improving your platform on a regular basis, so it remains relevant and current for your users and enables you to reach your commercial goals.\n",
      "-------------------\n",
      "Attain the best Driver Mechanic: 5 Lifetime Licenses discounts from the innovators of Software bargains, FreeSoftwareDiscounts.com. If your trying to find a bargain on Beijing Tianyu Software Development Services Ltd Invensys products, look no further than FreeSoftwareDiscounts.com for the best Driver Mechanic: 5 Lifetime Licenses Discounts. Beijing Tianyu Software Development Services Ltd Invensys gives us with the largest discounts & voucher codes so we can share major bargains directly to you.\n",
      "Driver Mechanic downloads and updates your Windows device drivers. Fix driver problems and stop BSOD with Driver Mechanic!\n",
      "Driver Mechanic takes the hassle out of adding or updating Windows devices. Driver updates from most manufacturers are provided at no cost, but they're often difficult to locate and match to your device. Driver Mechanic locates updates for your devices automatically, backs up your drivers for quick reinstall, and automatically notifies you when new updates are released for your drivers, bringing true convenience to keeping your devices up-to-date. Try it now!\n",
      "-------------------\n",
      "Not a verb for mouse-like actions, but rather an acronym for innovation!\n",
      "Substitute, Combine, Adapt or add, Modify maximize or minimize, Put to another use, Eliminate, Reverse or rearrange\n",
      "SCAMPER is a creative brainstorming tool used in a variety of settings including companies looking to create new ideas and products. Virtually anything around you can be put through the SCAMPER process. We put the process to work on various everyday items to see what new and innovating products we could create. One group of students were given an umbrella which soon became a boat for small animals. The everyday baggie was turned into a biodegradable icing design bag. We also SCAMPERed the Oreo to create many amazing new products definitely worthy of the famous cookie’s name! Some of our most popular products were: The Oreo Popsicle (winner in one group), Oreo dispenser hat, computer software to create and order your own personalized Oreo, giant sized Oreos, cream on the outside Oreos, an Oreo dispensing machine, an Oreo sphere, and an Oreo burger. Oreo definitely has some competition on their hands…or some future inventors!\n",
      "-------------------\n",
      "001 Picture Recovery is a reliable picture recovery tool for users to recover pictures lost due to accidental deleting, formatting, and other unknown reasons from PC, SD card, USB Drive and other storage devices.\n",
      "AutoMe is a reliable and user-friendly windows automation software and macro recorder with task scheduler, color checker. AutoMe is very easy to use, you can record robot, and run it as many time as needed. No programing needed.\n",
      "Never ever forget any information about your prospects and affiliates. Save a lot of time with an emailing system created exclusively for MLM businesses.Maintain good relationships with your prospects and affiliates with an automaticreminder system.\n",
      "Spryka Email Charger is designed as a practical and convenient application for sending out bulk email and newsletters. It combines everything that businesses need to keep in touch with their customers and to send out large amounts of correspondence.\n",
      "Business emailsoftware is essential software to verify email address list, send unlimited Email in one click,and email verification. It is a reliable process, capable of synchronizing email addresses providing effective email verification.\n",
      "SMSMarketing tools.Send lot of SMS from PC.Using UMTS/GSM phone/modem. With user friendly GUI easily manage SMS traffic up to 10.000 SMS per day. Create personalized SMS for each recipient very useful for SMS marketing or any other purpose using SMS\n",
      "CRMSoftware - CRM-Express can manage your marketing, customers, sales and orders. Features include SMS abilities, Email Client, Calendar, Address Book, My work day, News Feeds, Meeting Planner, Company Library, Form Designer, Journal.\n",
      "Best letter-making software for marketing managers, home businesses, consultants, accountants,secretaries,customer service, HR managers, and CEOs. Includes more than 1000 typical businessletter templates.\n",
      "The onlineadvisor for guided selling, product selection, configuration, or virtual help desk: the fully integrated webapplication WizAdvisor. Ask your customer for needs or usage, and match his profile with your portfolio for the best offering.\n",
      "With the push of a button, send personalized text or htmlemail with attachments to clients or customers directly from a Xbase program, programmable database or spreadsheet. Check for bounced email or replies (REMOVE, CONFIRM, OPT-OUT, etc.).\n",
      "This tool directly sends mass e-mails from your computer. The software supports e-mail sending in formats such as HTMLweb page, picture and text and has been widely used in commercial and trade, website popularization, product promotion...\n",
      "-------------------\n",
      "18 March 2004 Private Eye 2004 version 1.4 is released. What’s new:\n",
      "– Real time URL capture\n",
      "– Multiple user management interface;\n",
      "– Export Logs in HTML format;\n",
      "– Automatically start in stealth mode;\n",
      "– Improved speed of screen shot taking;\n",
      "– Capture clipboard content\n",
      "Stay informed about what happens on your computer at home or work, find out about what your children, spouse and/or employees are doing while your not at home or work.\n",
      "Find out first if your children or family members are contacted by less friendly individuals on chat rooms.\n",
      "You will be able to see exactly what people have been doing online and off-line, such as: e- mails, chat sessions, web sites visited ,all the applications ran on the computer you are monitoring. Read more about the future of virtual reality technology.\n",
      "-------------------\n",
      "Klinpower Solutions Sdn Bhd is a full-service one-stop provider of Power Protection and Power Distribution Solutions. Our core group of Power Technology Professionals provides Power Solution System Design, Power Solution Specification and Power Protection Service Expertise.\n",
      "Klinpower Solutions Sdn Bhd services Electrical Engineering Groups, Corporate Facilities / IS Management, and Architectural Design Groups with complete TOTAL Power Protection Solutions such as Power System Consultation, Specification, Sales, Power Protection Technical Support, Power Protection Services, Power Protection Installation and sourcing of Custom-Design equipment with our client needs.\n",
      "Our company has a diverse power quality and protection product portfolio, including:-\n",
      "- UPS System\n",
      "- Battery Monitoring System\n",
      "- Data Center Integrated Monitoring System ( DCIM )\n",
      "- Electrical Low Voltage System ( ELV System )\n",
      "- Precision Air Conditioner\n",
      "- Power Conditioner / Automatic Voltage Stabilizer\n",
      "- Power Dip Solutions System\n",
      "- Transient Voltage Surge Suppression System\n",
      "- Remote Monitoring System.\n",
      "- Power Monitoring and Audit\n",
      "- Computer Site Preparation\n",
      "- Repair and Maintenance Services\n",
      "Our priority is to make available for our customers of offering solution Services & Product that enable them to make optimum use of their IT Equipment like (UPS, Servers, PC’s, Switches, Router and many more) in Data Center. And at the same time reliable commitment meet all their production line in secure and quality. We ensure that your IT Equipment and Facilities continuously remain in excellent working condition.\n",
      "Our Service Philosophy is effectively designed to fulfill our precious client needs. We value partner-based relationships with our customers and strive to support them at every step.\n",
      "- Pre-Sales Support\n",
      "- Demonstration / Presentation\n",
      "- Technical Support Service\n",
      "- After Sales Service\n",
      "- Product Training\n",
      "-------------------\n",
      "Save the Cost of a 411 Call\n",
      "When you're out and about with a cell phone as your only electronic companion, and you need local information, 411 is still one of the quickest and easiest ways to obtain it. The catch: Traditional 411 services charge you for every look-up. But now there's an alternative: GOOG-411, a free 411 service from search giant Google. Just dial 1-800-GOOG-411, follow the automated voice prompts, and let GOOG-411's voice recognition program take care of you for free.\n",
      "Quick hint: Try saying \"Text message\" or \"Map it\" at the end of your call to get additional details sent directly to your phone.\n",
      "Bring the Subway Map With You\n",
      "When you travel by subway, knowing your route--and your route options--is a must. Web site iSubwayMaps offers free maps of 22 different cities across the globe, so you can plan your route no matter where you are. The maps are optimized for use on iPods and iPhones, but each map is just a photo, so it should work on any mobile device capable of displaying images.\n",
      "Shop Amazon via SMS\n",
      "You're a member of Amazon Prime, you have an extensive Amazon wish list, and your delivery person knows you by your first, last, and middle name. Admit it: You're an Amazon junkie. So how do you get by while you're away from an Internet connection? Check out Amazon TextBuyIt. This free service from Amazon lets you find and buy items on Amazon via text message. To use it, just text a keyword to 'AMAZON' (262966). Amazon TextBuyIt will instantly reply with a list of results, and you can text the company right back to identify the one you want to buy. After you do so, you'll receive a phone call from Amazon to confirm the details of your service. It's quick, it's easy, and it should satisfy your need to buy online until you can reconnect to the Web.\n",
      "Stay Up-to-Date With Your Favorite Blog via SMS\n",
      "Whether you're a news junkie or you're hung up on your crush's personal blog, RSS feeds are an obsessive site-refresher's best friend. Unfortunately, your newsreader won't do you much good when you're away from your computer. Free tool Pingie steps into the breach to create SMS alerts from any RSS feed--so whether you're sitting at your computer or not, you'll receive an SMS alert the second your favorite site updates.\n",
      "Go Straight to Voicemail With SlyDial\n",
      "Maybe you have just enough time between meetings to fire off a quick text message but not enough time to type. Or maybe you just want to avoid talking to the person on the other end of the line. Either way, wouldn't it be nice to be able to skip straight to voicemail? Web site SlyDial lets you do just that, forgoing the formalities of conversation by sending you straight to your contact's voicemail. The person you're calling won't know that you called until the voicemail pops up in the inbox, and you'll have saved yourself the effort of a full-fledged conversation when all you wanted to do was relay a quick message.\n",
      "(For more sly tech tricks like this one, check out my article, \"12 Sly Web Tricks That Put You in Control.\")\n",
      "Instantly Find Yourself on a Google Map\n",
      "Peripatetic types are used to plopping down in the nearest coffee shop to enjoy a little free Wi-Fi and a well-heated latte. But when you need a quick set of directions or want to find a good place to eat in the neighborhood, you have to go through the same tap dance over and over: Open Google Maps, manually enter your current address (assuming that you even know the coffee shop's address), and finally search for what you need. Instead of going through that routine, try installing the Geode Firefox extension, the Greasemonkey extension, and the Google Maps and Geode Greasemonkey script. Armed with them, the next time you visit Google Maps you'll see a new Current Position link next to the search box that will instantly locate you on a map. And when Firefox 3.1 is released, you won't need the Geode extension at all.\n",
      "-------------------\n",
      "Checkmate's CGM-TO is a completely unique product on the market: with built-in dampers to reduce impact forces on both the user and the anchorage, this is the ultimate range in multi-user tie-off systems.\n",
      "When working in confined spaces, safety is tantamount. The CGM-TO system is tested for up to three people as a fall arrest anchorage, and has been type-approved to CSA, ANSI and CE standards.\n",
      "The CGM-TO system can quickly be adapted to suit a variety of difficult and challenging access situations, and customised brackets can easily be fabricated to anchor to rail tracks, concrete, steel and other structures. Made from heat-treated T6 alloy and stainless steal, and weighing in at only 12kg, this multi-person tie-off post provides safety in a durable, super-lightweight design.\n",
      "-------------------\n",
      "We love visionary people with a true desire to make a difference, both within the company and the world. All our achievements as a company were made possible by our individual talents, this one amazing team.\n",
      "We welcome and review all applications as part of our equal opportunity employment. If your background and qualifications match our needs and the available opportunities, we will contact you directly. You can find our currently available opportunities below.\n",
      "-------------------\n",
      "This lighting blog covers a wide range of lighting topics including current events, the lighting industry, and product related blogs. I, Dr. Edison Bulb have 30+ years of lighting experience. My specialties include LED, commercial lighting and sports lighting. I am continuing my learning by keeping up with current lighting events and keeping track of them in this lighting blog.\n",
      "If you have questions for Dr. Bulb or would like to discuss guest blogging topics please email Dr. Bulb at Edison@drbulb.com or send a message below:\n",
      "-------------------\n",
      "###################\n",
      "Query 2:  cars\n",
      "FCA’s summer advertising campaign highlights the Apple Experience in its vehicles.\n",
      "Author: Riley Holbrook\n",
      "Winner goes to Bondurant Racing School.\n",
      "Investment firm Exor holds majority stake in Juventus, and almost a third of FCA.\n",
      "The charismatic football coach meets a car that matches his personality.\n",
      "From subtle to nearly snarling.\n",
      "Dark and silent.\n",
      "-------------------\n",
      "When was the last time you heard someone in Los Angeles talk about how much he loves to parallel park? Is it fair to say, never? If you detest parallel parking, you’re not alone. In fact, the task is so daunting that some car makers have installed “park-assist” technology in a few high-end models to make the dreaded maneuver easier for drivers.\n",
      "Can You Trust Self-Parking Cars?\n",
      "If you’re hesitant to jump on the self-parking bandwagon, consider this: in a recent study conducted by AAA, humans battled against cars that were enabled with self-parking features and the results were quite humbling, at least to the human drivers who participated, anyway. Findings included the following:\n",
      "- Self-parking cars hit the curb 81 percent less than human participants did.\n",
      "- Park-assist cars used 47 percent fewer maneuvers than humans to get in their spots.\n",
      "- The cars were able to get 37 percent closer to the curb than human drivers.\n",
      "- The self-parking cars were able to perform the parallel parking task 10 percent faster than humans.\n",
      "Nearly 80 percent of the drivers who participated claimed to be confident in their parallel parking abilities, but were still clearly beaten out by the self-parking cars. And despite the evidence that these cars do a better job at the tricky maneuver, only one in four drivers surveyed by AAA said they trust the vehicles to park for them.\n",
      "Research shows that 90 percent of crashes are caused by human error. Moreover, all of the collisions that have involved self-driving cars so far occurred because of mistakes made by humans.\n",
      "Nothing Is Perfect\n",
      "Like humans, self-parking cars aren’t perfect. Everyone makes mistakes, but if you suffer from injuries because of another driver’s error, you may be entitled to receive compensation. The attorneys of Steinberg Injury Lawyers excel at getting accident victims the justice they deserve. Find out if we can help you by calling 800-989-6385 to schedule your free consultation.\n",
      "-------------------\n",
      "The CarTrade Group, one of India's largest online automotive group, is actively looking at companies to acquire or invest into, in the automotive space. The CarTrade Group wants to further strengthen its position as the leading online automotive platform and has earmarked over Rs 400 crores for these investments.\n",
      "Commenting on the lookout for acquisitions, Mr. Vinay Sanghi, Founder & CEO, CarTrade Group added , \"We have been very successful in growing our business organically and inorganically and so, are actively looking out for companies which can complement the services we already offer or fulfill a consumer need which we do not cater to. There are many companies out there which are doing a lot of good work and we want to actively engage with them.\"\n",
      "The group is focusing on investing in all aspects of the automobile ecosystem which includes Finance, Insurance, Logistics, Leasing, Servicing, Auto distribution, Fleet Management, Electric Vehicles etc.\n",
      "The CarTrade Group is one of the few companies which has successfully integrated and grown the businesses it has acquired. Over the last few years, the CarTrade Group has acquired CarWale - leader in the new car space, Shriram Automall (SAMIL) – leader in the auto auction space, BikeWale – leader in the 2 wheeler classified space and Adroit – leader in auto inspections and valuations, and various other companies.\n",
      "These acquisitions combined with subsequent successful integration has made the CarTrade Group one of the leaders in the new car and used car space. Over 20 million unique customers come to their platform every month. The platform sells over 1 million vehicles a year. More than 40 OEMs and 15,000 plus dealers work with the CarTrade Group and it has over 180 owned or franchisee stores. The group is the only profitable online automotive platform and transacts approximately USD 3 Billion of GMV per year.\n",
      "-------------------\n",
      "Car Insurance Average By Ice Age Quotes Compare car insurance quotes in seconds and save up to $400* EVERY YEAR on your car insurance. We review Tower, State, AA, Trade Me and AMI Insurance. Search the world’s information, including webpages, images, videos and more. Google has many special features to help you find exactly what you’re looking for. You could save on car insurance by choosing a telematics policy – read our guide on black box insurance,\n",
      "Car. the named driver on the policy. Drivers who put a different postcode to the one they are based are also committing an.\n",
      "Compare Temporary Car & Van Insurance prices and policies from specialist insurers. Online Short Term Insurance available in Seconds. Guaranteed Best Rates. Impounded.\n",
      "Cheap car insurance for safe drivers, young drivers and first time drivers from Bell. Now safe drivers could be rewarded with cheaper car insurance.\n",
      "Get in touch with Acorn for competitive learner driver insurance. No matter what car you plan on learning to drive in – your parent's, a family friend's or even.\n",
      "Sep 13, 2018. Buy young driver's car insurance and get 2 for 1 cinema tickets with MEERKAT MOVIES. Insurance providers will generally only offer temporary cover to drivers. Car. Here we answer all of your questions on named drivers.\n",
      "Get great value pay by the day temporary cover. Our temporary car insurance is ideal if you are lending a vehicle to family and. Learner driver insurance.\n",
      "How Much Extra Does It Cost To Add Someone To Your Auto Insurance Policy?. A named driver is anyone who is named on your insurance policy, thereby. Note that many insurance companies provide the option to add a temporary driver.\n",
      "Hundreds of thousands of drivers risk being left with a \"financial headache\" and a criminal record as they could be driving w.\n",
      ". are a range of insurance options for learner drivers: – A learner who wants to use their own car can take out an insurance policy with the person who will be supervising them listed as a named dri.\n",
      "Hundreds of thousands of drivers in the UK could be driving without valid insurance. else as the main driver of the car. F.\n",
      "We don’t offer short term car insurance comparison – here are some companies  offering quotes  Temporary car insurance cover for motorists aged 17-75, subject.\n",
      "Quotezone Temporary Insurance. Drivers aged 18 – 75 | Insurance for 1 hour – 28 days. Finding cheap temporary car / vehicle insurance can be easier than you think.\n",
      "6 results. Compare car insurance policies that can offer temporary short term. find affordable temporary cover you could try being added as a named driver to.\n",
      "GEICO, which was founded in 1936, provides millions of car insurance quotes to U.S. drivers annually. The company is pleased to serve more than 16 million private passenger customers, insuring more th.\n",
      "The PAC is for the individual driver of the vehicle while travelling, mounting or dismounting from the car. Optional. injuries other than named above. 100% The impact Taken together with IRDAI’s ne.\n",
      "There are a few ways to get this extended cover, each with its own benefits: Add yourself as a driver on their policy. This c.\n",
      "10% of RAC’s customers paid £165 or less for our Defaqto 5 Star Rated Car Insurance Plus & RAC members get an exclusive 10% member discount.\n",
      "Our student driver insurance provides short term comprehensive cover for. to get temporary fully comprehensive cover on a parent's or friend's car – ideal for.\n",
      "Temporary car insurance may leave permanent damage on your insurance history. If you're traveling or driving a friend's car, discover how you still could be at.\n",
      "What is a named driver? And why would you add one on to your car insurance? Here we answer all of your questions on named drivers.\n",
      "The device is installed into your car and it monitors factors such as your speed, acceleration and braking. – Reduce your mileage. Providers will use this to calculate your insurance premium. – Add an.\n",
      "Sep 14, 2018. 18 Year Old Male / Car Insurance Quote plus named driver, ouch!. Can i let a temporary permit driver drive my car without insurance?\n",
      "Do you require short term insurance for a car, van or motorhome? Get instant cover from 1 to 28 days with RAC Temporary Car Insurance.\n",
      "The agency is urging learner drivers to meet insurance requirements or risk facing prosecution. Neil Drane, MIB’s head of enf.\n",
      "If you need to borrow a friend or family member’s car on a temporary basis from 1 hour up to 30 days, Veygo Car Sharing Insurance could be right for you\n",
      "Brummies could be among hundreds of thousands of drivers in the UK could be driving without valid insurance. the main driv.\n",
      "It only takes a couple of minutes to compare car insurance quotes with over 120 insurers with MoneySuperMarket – and in the process save up to £280*. Compare car.\n",
      "and parents often find themselves on their children’s insurance. It is, however, a form of fraud if the ‘named driver’ is act.\n",
      "Find out exactly how insurance works when you're driving someone else's car, or if they're driving yours.\n",
      "Cuvva offers hourly car insurance giving you the flexibility to insure your car. of adding a temporary additional driver is too high and the owner's no claims is.\n",
      "Quickly find instant, temporary car insurance from 1 – 28 days with One Call. Our temporary car insurance is fully comprehensive and won't affect your no claims.\n",
      "The study was commissioned by insurance. of van drivers on the road is far more positive among young people (18 – 24) than.\n",
      "Hundreds of thousands of drivers could be driving with invalid insurance. somebody else as the main driver of the car. Fro.\n",
      "Car Insurance New Zealand Cost 2014 Low-income Michigan residents who enrolled in a new state health insurance plan didn’t. who enrolled in the program’s firs. The Multijurisdictional Public Bank Feasibility Study, which was publicly released in late August, concluded that a bank is f. It will provide parents with the information on breastfeeding, car seat safety and newborn care. The cost. new positions for police, parks, public works, finance, human resources and the library. M. Industry\n",
      "Sep 8, 2014. You're responsible for problems when others drive your car. Having the right auto insurance policy will protect you. We explain the ins and outs.\n",
      "Over the last seven years, St. Louis-based Enterprise has spent more than $2 billion acquiring a multitude of car-share busin.\n",
      "Experts have warned thousands of motorists could risking a criminal record due to a few simple mistakes when filling out an i.\n",
      "10 results. Getting short term car insurance is not always easy especially if you are a young driver. Compare temporary car insurance policies for drivers aged 21.\n",
      "Jun 5, 2014. In general, auto insurance follows the car instead of the driver, but the. that will not cover any driver not specifically named in the policy.\n",
      "10% of new customers pay £162 or less for AA comprehensive car insurance online (Mar 2018–August 2018). Award-winning car insurance from the AA.\n",
      "Ask your agent about adding your roommate to your car insurance policy as an operator (driver) of your vehicle. In situations where each friend living at the.\n",
      "If you are searching for temporary car insurance, you will probably come across. is due to the rental car coverage that is offered when one opts for the additional. While most auto insurance policies cover any driver who has been given.\n",
      "Oct 10, 2017. Even if you don't own a car, you might need auto insurance. Non-owner car insurance provides liability coverage when you're renting or.\n",
      "Hundreds of thousands of drivers are at risk of fines and a criminal record due to invalid car insurance. A few simple mistak.\n",
      "-------------------\n",
      "From the moment you contact a Jaguar Retailer or Jaguar Service Centre, you are in the hands of specialists who will assess your vehicle using cutting-edge diagnostic equipment and use only Jaguar Genuine Parts.\n",
      "Jaguar Service Plans cover the cost of routine servicing so that your vehicle will always perform at its best, while saving on the cost of ownership without compromising on quality.\n",
      "We offer a comprehensive assessment of your Jaguar's overall condition with a complimentary Electronic Vehicle Health Check, including a Service Advisor taking you through a report of the results.\n",
      "ONLINE SERVICE HISTORY\n",
      "All vehicles come with a secure Online Service History, eliminating the risk of missing or repeating your service, and therefore helping to protect the residual value of the vehicle.\n",
      "For over a decade, Castrol has worked with us to formulate lubricants specifically designed to reduce wear, CO2 emissions and fuel consumption in Jaguar engines.\n",
      "AdBlue® is a non-toxic, colourless, odourless and non-flammable fluid that cleans exhaust gases by breaking down nitrogen oxide (NOx) emissions into harmless water vapour and nitrogen gas.\n",
      "FIND A RETAILER\n",
      "Locate your nearest Jaguar Fleet & Business Specialist.\n",
      "-------------------\n",
      "One of the strangers in our register’s midst is Gert Jan Gijsbertsen’s 032342: an original Fabulous Flatnose, indeed, but at some point in time this one was converted to a slantnose model and painted red.\n",
      "For quite some time now, this has been a project car. But recently, Gert Jan decided to get it roadworthy again by this summer (in about five months). A lot of work has already been done:\n",
      "- The interior is redone, with new leather and rust protection\n",
      "- The body is mostly done, rust removed and bodywork repaired and protected\n",
      "- The chassis has new bushes and bearings, a revised steering rack and new shocks and springs\n",
      "Bodywork in progress\n",
      "Work to be done in the upcoming months includes mounting a new Simons sport exhaust, re-installing the original engine (that may later be replaced by a revised engine) and getting the paintwork done – in silver #172 of course!\n",
      "After that, the original bumpers and USA-style headlights will be mounted and the Fabulous Flatnose will be close to breaking free and driving around the country again.\n",
      "It is really nice to see a red slantnose regaining its original looks and colour! Good luck and have fun, Gert Jan! We are looking forward to the photos of the risen 032342!\n",
      "Here is some inspiration for you, to end with: Harry Melis’ 030201 after the repaint.\n",
      "-------------------\n",
      "Hot Wheels movie scores Fast & Furious director Justin Lin\n",
      "According to The Hollywood Reporter, the long-gestating Hot Wheels movie has just gotten a jump start with the hiring of filmmaker Justin Lin (the Fast & Furious franchise, Star Trek Beyond), who is slated to both direct and produce via his Perfect Storm Entertainment.\n",
      "A film based on the classic Mattel toy car line has been in development since 2003, and has seen the likes of McG (Terminator Salvation) and Simon Crane (second unit director on Rogue One: A Star Wars Story) jockeying to direct for companies as varied as Columbia, Warner Bros. and most recently Legendary Pictures. The latter is still onboard the project, which is currently out to writers. We’d heard rumors that there was a writer’s room staffed for the project, but all that may be out the window now that Lin is onboard. Alex Garcia is overseeing the project for Legendary.\n",
      "Lin most recently helmed this summer’s Star Trek Beyond, which was a hit with fans and critics but disappointed at the worldwide box office, becoming the lowest-grossing of Paramount’s franchise reboot trilogy.\n",
      "(Photo Credit: WENN.com)\n",
      "-------------------\n",
      "1975 FIAT 124 SpiderReview\n",
      "My 1975 124 Spider — I bought this car used and almost un-running. After some work, I got it up a going. She does not really like to start after sitting for awhile, but once she does, she runs like a champ. The current rattle can rust proofing paint job lacks beauty, but is functional.\n",
      "Pros: Top down fun, dependable, handles pretty well for a car that is 33 years old.\n",
      "Cons: Not pretty right now, does not like to start after extended down time.\n",
      "Looking for a Used 124 Spider in your area?\n",
      "CarGurus has 2,262 nationwide 124 Spider listings starting at $16,950.\n",
      "Reviews From Other Years\n",
      "Suzanne, I Think.\n",
      "The Fiat Spider 2000/124 Spider was one of the top three most successful sports cars ever made. (MGB being another, then maybe the Corvette.) Comfortable and roomy seats, a smooth shifting 5sp, a Blac... Read More\n",
      "Great Weekend Car.\n",
      "Fun to drive on nice sunny days. Great for daily road trips. Anyone lucky enough to have one of these little gems would tell you that it is a pleasure to own and can be driven daily in all types of tr... Read More\n",
      "'81 Fiat Spider 2000 Turbo\n",
      "Overview: These little cars were never very powerful, but with the exception of the truly exotic cars, handling capabilities were far superior to most other sports cars of their time. When the EPA b... Read More\n",
      "Peppy Stylish Fiat\n",
      "FIAT got some things right with this car. And contrary to popular opinion a well maintained FIAT once sorted is not a headache to take car of. This car is peppy and has some zip, not to mention classi... Read More\n",
      "The first convertible I purchased after relocating to California. Was on my wish list for a long time as an affordable way to drive a gorgeous car designed by Pininfarina. Rather roomy for a two seate... Read More\n",
      "Gorgeous Zippy Little Sports Car.\n",
      "I love everything about this car but I live in the mountains and we get snow. So the lack of four wheel drive is something that I can't afford to have. I adore driving around and every time you stop a... Read More\n",
      "Great For A Car Show!\n",
      "What I liked about this car is, its easy to work on and the part are not hard to find, nor are they expensive. It's not that I didn't like the care, but I don't have the time to work on it. Its been s... Read More\n",
      "All Italian, All The Time\n",
      "The 124 Spider is a beautiful, nicely appointed sports car with wonderful Italian flair, decent performance, a terrific exhaust note and better reliability than Fiat gets credit for Read More\n",
      "Owned It Since 1977 And It Has Been A Fun, Reliable Car.\n",
      "I am looking for a professional to help me restore a 1978 124 spider in the NC/SC area. Read More\n",
      "-------------------\n",
      "|Package||XLT SuperCrew 5.5-ft. Bed 4WD|\n",
      "|Body Style||Pickup - Full Size|\n",
      "|Drive Type||4 Wheel|\n",
      "|Interior||Medium Earth Gray, cloth|\n",
      "Pickup - Full Size, 5.0L V8\n",
      "Pickup - Full Size, 5.3L V8 OHV 16V\n",
      "Although every reasonable effort has been made to ensure the accuracy of the information contained on this site, absolute accuracy cannot be guaranteed. This site, and all information and materials appearing on it, are presented to the user \"as is\" without warranty of any kind, either express or implied. All vehicles are subject to prior sale. Price does not include applicable tax, title, license, processing and/or documentation fees, and destination charges.\n",
      "-------------------\n",
      "We’re sorry. The information you have requested is temporarily unavailable.\n",
      "WeatherTech In-Channel Side Window Deflectors Part #70199 Customer Reviews\n",
      "1 Customer Review\n",
      "Reviewed by Pamela K (Careywood, ID) Reviewed for a 2002 Suzuki XL7 — Jan 30, 2008 4:54 AM\n",
      "I am soooo totally impressed with Anything Auto.Everything went smoothly and the deflector's are wonderul.Had no problems getting them in.\n",
      "Ships Between 7/23 - 7/25\n",
      "- What Do You Drive?\n",
      "- Style:Front Set\n",
      "- Color:Light Smoke\n",
      "- Part #:70199\n",
      "-------------------\n",
      "Most finance companies will require boats to be insured throughout the length of the loan. However, many folks discontinue their insurance once that is paid off and some who buy their boat outright never think to insure it.\n",
      "Many people operate under the misconception that between their auto and home insurance, their boat, motor, trailer and contents are covered.\n",
      "The average homeowner insurance policy will offer limited liability coverage for a boat that is 14’ or less with 25hp or smaller motor. However that will not cover in the instance of an oil or fuel spill, and there is no coverage for theft of the boat, motor or trailer. Be sure and check with your agent to see what is / is not covered under your homeowner policy when it comes to your boat.\n",
      "Now, your auto policy is a bit different. If the boat is being towed, the liability portion of your auto coverage will extend to pay for damages done by you. (Ex: you back into a vehicle with your trailer) However, damages to your boat/motor/trailer are not covered by the Comprehensive/Collision coverage on your auto policy.\n",
      "If you own and operate a boat, it is wise to properly insure your boat, motor, trailer and contents.\n",
      "A good boat policy will offer liability which protects the other people in the case of injuries due to a boating accident in which you are at fault and physical damage coverage to protect the boat itself. You can also get coverage for the lower unit of your outboard motor and/or both upper & lower unit coverage for your sterndrive motor, on-water towing, fishing equipment coverage and wreckage removal. Some policies offer agreed value and/or total loss replacement coverage as well. There are other additional insurance options such as Med Pay, Uninsured Boater Bodily Injury and personal property coverage.\n",
      "As with any insurance policy, it is always wise to document (with photos or videos) the contents and equipment on your boat (trolling motor, life preserves, fishing equipment, depth finders, etc.)\n",
      "Some boat policies will cover theft of items such as those listed above, but in most instances, there must be evidence of forced entry (EX: the closed and locked compartments pried open).\n",
      "Another good reason to insure your boat is the discount(s) that may be available to you for multi or companion (or bundling) policies (EX: boat & auto; home and boat, etc.)\n",
      "Above are several reasons to properly insure your boat, motor, trailer and contents. Don’t wait until there’s an incident, call us today and let us get’cha covered!\n",
      "Until next time, take care and be an informed boater!\n",
      "Tommy Curtis and Staff\n",
      "Is an insurance agent with integrity and your best interest in mind. Call to speak directly to him.\n",
      "Address: 509 7th Street\n",
      "Lake Charles, LA 70601\n",
      "Office Hours: M-F 9a - 5p (CST)\n",
      "-------------------\n",
      "bicycle frame material: other/unknown bicycle type: mountain brake type: disc (hydraulic) condition: like new frame size: large make / manufacturer: Cannondale model name / number: Catalyst suspension: suspension fork (hardtail) wheel size: 27.5 in\n",
      "QR Code Link to This Post\n",
      "Good as new top of the line Catalyst 1 by Cannondale with better platform pedals, bottle holder, storage bag, two spare tubes and a mounted air pump. $800 invested in Bike and assessories. 27.5 wheels. Large size. Firm price.\n",
      "-------------------\n",
      "wsaz weather classic oakley sunglasses The Horne oakley radar polarized black iridium sunglasses oakley oil drum review cheap burberry scarf Section Friday 30th May 2014 by paul_se cheap louis vuitton scarf on April 24, 2014 in Event The De La Warr Pavilion presents Alex Horne & The Horne Section For all ages from 7 70. i lost the first 2 games then i have won all the others. These two different areas alternate endlessly, or at least until you run into an obstacle, which at least brings some variety to the visuals. The first band to ever host Never Mind The Buzzcocks (BBC Two) will be rolling into town with a barnstorming show, providing top notch family friendly musical mayhem. How do I qualify for monthly rebates. Students should have a performance standard of at least Grade 5 at the beginning of the Lower Sixth. once again, I LOVE THIS GAME Reply &darr.\n",
      "Great Values classic oakley sunglasses Take A walk Down Our Aisles and Save EliAwseome on September oakley safety sunglasses 5, 2014 at 9:59 pm said: oakley outlets in florida I love this game chanel scarf price 2013 so much I play it all day. On my iPad I am up to level 24 or 25 Reply &darr. 1:00pm Friday 31st October 2014 SALOS, founded in 1952, continued its stunning success story this week with Lionel Bart's musical version of Dickens' novel. Leave a Reply to Jessie Cancel reply Your email address will not be burberry scarf sale men published. Have your say Other articles: Bach Advent Cantatas, Wiltshire Music Centre. Until November 1 Fix with negative margin. Trophy (1In Centre) 5In From £3.\n",
      "BarbieBabe truly fulfills your oakley probation polarized black fantasies night oakley icon 3.0 and day at this webcam site. 00 Qty BUY hermes 2014 scarves NOW VULKAN PRIMARCH OF THE SALAMANDERS 99560101402 £. For information relating to the Marketmaker trading platform please visit our help cheap burberry scarf pages. she also wrote her honours thesis on myth and typology in The Chronicles of Narnia). Apple, iPad, and iPhone are trademarks of Apple Inc. 00 Qty BUY NOW SALAMANDERS LEGION FIREDRAKES 99590101394 £. Lewis: The Professional Scholar\" by Steve Schuler (Assistant Professor of English at the University of Mobile, Alabama). Our Goal Is To Provide Our Customers With The New Styles And High Quality classic oakley sunglasses Best quatily, free shipping & fast.\n",
      "Have you ever been dreaming that you can afford a classic oakley sunglasses USA Online Store Save 85% Off! Garden screens oakleys on sale Cordon off areas oakley oil rig sunglasses banner of your outdoor space with a sophisticated garden screen from our burberry scarf for sale brilliant range. Regan Younger on November 30, 2013 at 12:11 am said: It is so cool that you can billd 9 hermes scarve feet tall billdings tall. Cheaper oil Many winners, a few bad losers A lower price will boost the world economy and harm some unpleasant regimes but there are risks 52 More in Business & finance ». The euro crisis Back to reality The debt of some euro zone economies looks unsustainable 49 More in Europe ». take that on March 29, 2014 at 3:46 am said: I hate it and I like10 feet Reply &darr. t notice anything but your flawless garden. City devolution in England Devo Met Big English cities are pushing for more power 13 More in Britain ».\n",
      "-------------------\n",
      "Help increase your visibility to all road users by wearing apparel, footwear, and accessories with 3M™ Scotchlite™ Reflective Material.\n",
      "Drivers moving at just 30 miles per hour may travel a distance over 500 feet before they are able to properly maneuver their cars in response to an obstacle.\n",
      "Click on the following link and test yourself: Test\n",
      "Juritex is a distributor of reflective material produced by 3M Scotchlite. This enables us to offer an extensive range of products for optimum safety, both during the day and at night. For more information, please contact us.\n",
      "-------------------\n",
      "Moving pets across state lines requires special paperwork, whether via plane, train or automobile, but if you are planning to move your pet to an\n",
      "Anyone who owns (and loves) a cat knows that they can have unexpected, frustrating and often confusing actions. Is your cat urinating on your clean laundry pile? Is he going in his litter box like a good boy or is he urinating everywhere else? Is he doing that on purpose? What about your furniture…is there anything you can do to stop him from scratching up your nice leather sofa? Why does he hide under the bed all day? Why does he keep attacking the other cats? Read more by clicking on Whisper’s pic above!\n",
      "-------------------\n",
      "With the rise of Walking on Cars showing no sign of slowing, Getintothis’ Siobhan Matos writes in anticipation of their return.\n",
      "Irish chart-toppers Walking on Cars have announced a date at Liverpool’s O2 Academy on November 25 as part of their biggest UK tour to date.\n",
      "Having formed in Dingle, Ireland back in 2010, the five school-mates released their debut single Catch Me If You Can a little over two years later, with the track reaching number twenty-seven in Ireland and remaining there for an impressive, twenty weeks.\n",
      "Following this, they celebrated their achievement with the release of EPs As We Fly South and Hand In Hand before finally releasing their debut album Everything This Way earlier this year. It was no surprise that it too was warmly received, reaching the dizzying heights of number one in the Irish chart.\n",
      "With all of this success, we can’t wait to see them play to their biggest scouse crowd yet at the O2 Academy, with what we anticipate to be an enthusiastic crowd, having played to a packed Arts Club earlier in the year.\n",
      "-------------------\n",
      "American singer-songwriter Carrie Underwood, 35 reveals her baby bump after making an official announcement that she is expecting her second child with husband Mike Fisher. The baby bump picture Carrie Underwood took to Instagram to let her fans know about her pregnancy. Her baby bump was clearly visible in this snap. She captioned the picture thus: She has given no more updates or details about her pregnancy. She has not told her 7. Taste of Country Mike and Carrie She added: I love you guys. Have a great day!\n",
      "It was beyond romantic. So, when might they go public? Gossip Cop is told that will probably happen in a week from… never.\n",
      "Carrie Underwood may have suffered a horrible facial injury, but the trauma reportedly helped save her marriage to Mike Fisher.\n",
      "Villalva , Christian Post Reporter May 14, 2: Underwood first rose to fame in after winning the fourth season of “American Idol. But despite all of her success, her friends say that fame hasn’t changed her. And for Underwood, staying true means not always being the most sociable person. And she doesn’t feel the need to overcompensate now,” Childers said. Underwood agrees with those close to her.\n",
      "Carrie Underwood Fun Facts, Quotes and Tweets\n",
      "Navigation MenuMenu Chace Crawford personal life Love life of celebrities is sometimes more interesting and more intriguing than their own works. Chace Crawford sure is no exception to this equation, every single woman is interested weather Chace Crawford is single or not. Chace Crawford dated Carrie Underwood in However, Chace Crawford and Carrie Underwood split because they had some serious difficulties dealing with both being on the edge of glory.\n",
      "Nov 15, · [:» [ Carrie Underwood ] }}:)]] CMA AWARDS [[Live-StreaM]][CON’CERT]» [] Don’t missed this EVENT on Please Subscribe this channel like.\n",
      "Underwood won for Female Vocalist of the Year and Entertainer of The Year, thus making her the first woman to win the award in ten years and the 7th female to take it in the award show’s four decade run. The song reached number two on the AC Chart, and remained there for three consecutive weeks. At the show, Underwood was named Entertainer of the Year, making her the first woman in history to win this award twice. Invitation Only presents Carrie Underwood.\n",
      "She was recognized for being the first and only female artist in the Academy’s history to ever win Entertainer of the Year twice. This was the 4th year in a row that she was selected for the list. The Voyage of the Dawn Treader. The event took place on September 23 and 24, Robinson returned the favor to Underwood by singing “My Girl” to her.\n",
      "It was officially released to Country radio on February 27, She also performed “Good Girl” at the ceremony. She has won a total of 11 ACA’s, the most of any artist ever.\n",
      "Mike Fisher & Carrie Underwood: 5 Fast Facts You Need to Know\n",
      "It all began with a tense moment on May 25, , as Ryan Seacrest uttered the words that over 30 million Americans were eagerly waiting to hear. Underwood took Robin Roberts back to where it all began, to her hometown of Checotah, Okla. Underwood said she almost didn’t audition for “American Idol. But after a few tryouts Underwood finally heard those four magic words from “American Idol” judge Randy Jackson: And it’s amazing that I made it there,” Underwood said about her first trip to Los Angeles.\n",
      "In March , Underwood released a fitness clothing line named CALIA by Carrie Underwood. In collaboration with Dick’s Sporting Goods, the line features clothing that is intended to be suitable for both active and casual wear. Philanthropy. Underwood established the Checotah Animal, Town, and School Foundation in\n",
      "Share this article Share The glamorous look comes just two days after attending a Stanley Cup Finals game; she watched her husband Mike Fisher and the Nashville Predators tie the Pittsburgh Penguins in the series. Miranda Lambert was also on hand, dressed in a black and silver mini dress with boyfriend Anderson East as her date.\n",
      "The singer highlighted her sculpted legs in a silver sequined top with a textured mini Fancy: Carrie’s see-through ensemble was perfectly paired with strappy gold heels and silver structured clutch She’s a looker! The Blown Away artist styled her blonde locks back into a twisted bun updo, adding smokey eye makeup and pink glossed lips Miranda, 33, highlighted her legs in the cut-out frock, which also gave a peek at her midriff.\n",
      "The Tin Man artist paired the thigh-grazing look with silver and black cage-style heels and tousled locks. The blonde beauty beamed with her beau of over one year while rocking smokey eye makeup and nude lipstick. The singer highlighted her legs in the cut-out frock, which also gave a peek at her midriff; pictured on the carpet on Wednesday in Nashville, Tennessee Another standout on the carpet was Jada Pinkett Smith.\n",
      "The year-old actress flaunted her incredible form in a lavender frock with floral embroidery along one side. Model Josephine Skriver slipped on a shimmering jumpsuit, which featured a cinched waistline and flared bottoms. The Victoria’s Secret Angel paired the figure flattering number with sleek locks and charcoal eye shadow to finish off her look. Jada Pinkett Smith flaunted her incredible form in a lavender frock with floral embroidery along one side What a lady: The star wowed in the colorful look, which featured a strapless neckline; Jada paired it with sleek locks Glamour:\n",
      "Debunking the week’s tabloid stories: September 14, 2018\n",
      "Gossip Cop can exclusively debunk the supposed marital drama. If Carrie and Mike continue to grow apart, it will surely end in divorce for them. So proud of you, baby!\n",
      "Nov 15, · RELATED: Brad Paisley Gifts Carrie Underwood Bubble Wrap Dress on CMAs Stage After Her ‘Really Bad Fall’ The new addition is the second son with husband Mike Fisher. The couple, who wed in July , are already parents to 3½-year-old son Isaiah Michael.\n",
      "Follow Carrie Underwood 11th March Quote: It’s all very pretty and feminine and ladylike. Carrie Underwood only drinks water, coffee and red wine. Adele is up for five awards on the night including album, record and song of the year. Carrie Underwood stunned young Christians at a concert in Atlanta, Georgia on Monday night 02Jan17 , when she showed up unannounced to perform. The singer was greeted by screams as she took the stage with Christian singer David Crowder at Passion , an evangelical conference for college students.\n",
      "She performed her hit Something in the Water for the 50, Christians in the audience. I never really knew what it was like to love something or someone unconditionally until I had him. He’s so sweet and so smart. He’s a little sponge just growing and learning every day. He’s just the best thing. Carrie Underwood has expanded her sporting wear line to include swimwear.\n",
      "Carrie Underwood slams ex Tony Romo in Esquire: ‘I would never immortalize a guy that did me wrong’\n",
      "Originally published in the November 19, issue of Country Weekly magazine. Keep an eye out: What everybody else does is what I do.\n",
      "Carrie Underwood met Mike Fisher back in The two became engaged a year later and were married in The couple has one child together, a 3-year-old son named Isaiah. They’re expecting their second child in early Fisher is a former professional ice hockey player.\n",
      "She was there to find her husband, and Carrie’s father, Roman to divorce him and leave Carrie in his care. Roman was shocked to find Anna alive, and that he had a child. Anna claimed that she had been forced into white slavery and kept prisoner on a yacht owned by European drug dealers. She also claimed Carrie was taken from her for six to twelve months at a time. Shortly afterwards, Roman and Anna divorced and Carrie began to spend time with her father.\n",
      "Anna agreed to help Stefano as long as Roman was only discredited and not harmed. While Roman was undercover in , Carrie was staying with Marlena when she slipped on some ice. She was knocked unconscious and broke her arm. Although risky because of his mission, Roman managed to visit Carrie, who would eventually make a full recovery. In , Stefano’s plan to make everyone think that John Black was really Roman worked. However, Carrie had a hard time adjusting to the man who everyone believed was her father.\n",
      "When Carrie saw Marlena being affectionate with the new Roman she tried to run away, but was hit by a car.\n",
      "Carrie Underwood, Mike Fisher headed for divorce? What’s really going on\n",
      "Possessed of that rarest of combination–undeniable talent, an extraordinary work ethic, and girl-next-door likeability–she blossomed as a national phenomenon before tens of millions of viewers by winning American Idol, captivated by both her vocal talent and personality. The artistic growth that has accompanied her subsequent rise into the upper reaches of the entertainment world has placed her among the foremost artists of her generation.\n",
      "Hers is superstardom with a human face.\n",
      "Nov 15, · [:» [ Carrie Underwood ] }}:)]] LIVE-At CMA Award [[Live-StreaM]][CON’CERT]» [] Don’t missed this EVENT on Please Subscribe this.\n",
      "It is optional for you to engage in such activity; however, if you choose to do so, we may not be able to permit you to participate in the activity unless certain pieces of information are provided. This information includes, but is not limited to, your browser type; mobile phone, tablet or other device type; computer or mobile operating system; the domain of the website that referred you to us; name of your Internet service provider; web pages you visit on the Services; IP address; geo-location information; and standard server log information.\n",
      "We also collect information about your interactions with our email messages, such as whether the messages were opened and the links clicked in those emails. Much of this information is collected through cookies, web beacons and other tracking technologies. Most web browsers automatically accept cookies but, if you prefer, you can usually modify your browser setting to disable or reject cookies.\n",
      "If you delete your cookies or if you set your browser to decline cookies, some features of the Services may not be available, work, or work as designed. We may also allow our affiliates, service providers, data management providers and advertisers to serve cookies or employ other tracking technologies from the Services.\n",
      "-------------------\n",
      "Measure boost and bypass your engine's PCV system with this boost tap from APR\n",
      "Replace your high mileage, damaged or worn out Carbonio air filter with this new part from APR.\n",
      "Removing your manifold or having other engine vacuum issues? This Gasket could be just what you need.\n",
      "Experiencing boost loss in your 2.0T engine? This valve tends to fail.\n",
      "Carbonio's latest carbon fiber intake for the 2.0 TFSI & 1.8 TFSI engine is a ram air design that completely seperates the intake filter from the e\n",
      "-------------------\n",
      "Americans spend an average of 15 hours a week in a car, at least according to this Arbitron study. That’s like two hours a day! Here at Carfree with Kids, we don’t spend any average time in a car — time in a car for us is always weird and usually involves crying children. But cars are private space. Yes, you can see into most cars, but being in a car you are insulated from the outside world. In contrast, we do all of our transportation in public — walking, biking, or taking transit.\n",
      "This actually impacts our parenting. Whether it’s on a train, bus, or bike, our children are being transported in public. That means that the tired baby who screams on the way home from the Children’s Museum is screaming in public. The preschooler who has trouble sitting still is squirming and singing too loudly in public. The toddler who doesn’t want to stop playing at the park is thrashing about in a stroller or on a bike in public (on a disastrous ride home from spy pond a couple weeks ago I really wanted a sign that said “they cry in car seats all the time people”). Parents who transport their children in cars have to deal with just as much challenging behavior, but they often do it in the privacy of their own car, where they can be insulated from the harsh judgment of people who would certainly never let their kids behave like that. That won’t stop the screaming, but in a car you can at least tell yourself that your kids aren’t driving other people crazy, just you.\n",
      "Those anti-kid people who think children and their parents should all be shipped to the moon absolutely hate us, I’m sure. But while there are lots of obvious drawbacks to parenting through transitions in public, there are some benefits as well. First, you get to interact with so many different kinds of people. I’d like right now to say a huge “Thank you!” to all the bus and train riders who have ever stopped to wave at, play peek-a-boo with, or chat with my kids. We get a chance to see new people at every stop, and sometimes that leads to interesting conversations, like the time our daughter, around 2.5 at the time, saw a pink-haired young woman heading to an anime convention in Boston and told Nathan, in a loud stage whisper, “Some grownups have different hair!” which generated a lot of smiles and led to a very sweet interaction between the two of them. You get to answer questions about people hauling furniture, dogs, and suitcases, people who have noticeable physical differences, people who speak different languages, and people who are behaving badly. Generally, you get to help your children to respond appropriately to the unexpected.\n",
      "You also get a chance to practice manners and good behavior in a variety of different situations. Can your child be quiet during a morning commute? Handle sitting next to people she doesn’t know? Stand up on the train while still remaining calm? All of these situations come with social pressure to behave well, which can be both good and bad. But they certainly do allow the whole family to practice appropriate behavior in a public setting. We’re currently working with our four-year-old on sitting with some level of propriety in a skirt, and I don’t think we would be doing it if we weren’t riding trains regularly. We tend to get compliments on our kids’ sociability and manners, and some of this comes from the skills they learn in our many public interactions.\n",
      "The other place where we feel very visible is when we ride our bike. Our beautiful Xtracycle gets a lot of attention, and both Nathan and I have noticed that when we ride it, even if the kids aren’t with us, we feel pressure to be good biking citizens, and in particular to obey traffic laws. This has more to do with having an easily identifiable bike than with being carfree, but it still seems to fit here. If I run a red light, I know that the people behind me can easily look me up (our blog url is on the license plate), and that helps me resist the temptation.\n",
      "-------------------\n",
      "An Amazon Brand\n",
      "Make sure this fits by entering your model number.\n",
      "Exterior dimensions (including wheels): 21″ x 12.6″ x 31.3″; Interior dimensions: 19.3″ x 12.4″ x 28.4″\n",
      "Weight: 11.02 lbs\n",
      "Rolling luggage case with hard-shell exterior\n",
      "Adjustable telescoping handle, comfort grip, recessed TSA lock, and 360-degree spinner wheels\n",
      "Multiple packing compartments for clothing, toiletries, devices and more\n",
      "Stylish geometric exterior pattern will make you stand out from the crowd\n",
      "-------------------\n",
      "Attain the best Driver Mechanic: 5 Lifetime Licenses discounts from the innovators of Software bargains, FreeSoftwareDiscounts.com. If your trying to find a bargain on Beijing Tianyu Software Development Services Ltd Invensys products, look no further than FreeSoftwareDiscounts.com for the best Driver Mechanic: 5 Lifetime Licenses Discounts. Beijing Tianyu Software Development Services Ltd Invensys gives us with the largest discounts & voucher codes so we can share major bargains directly to you.\n",
      "Driver Mechanic downloads and updates your Windows device drivers. Fix driver problems and stop BSOD with Driver Mechanic!\n",
      "Driver Mechanic takes the hassle out of adding or updating Windows devices. Driver updates from most manufacturers are provided at no cost, but they're often difficult to locate and match to your device. Driver Mechanic locates updates for your devices automatically, backs up your drivers for quick reinstall, and automatically notifies you when new updates are released for your drivers, bringing true convenience to keeping your devices up-to-date. Try it now!\n",
      "-------------------\n",
      "With an Anthony Caro show currently on view at Mitchell-Innes & Nash gallery in New York, we turn back through the ARTnews archives. Because the show brings together very early and very late work from the British artist’s career, we have selected one old excerpt, by Lawrence Alloway, and one new sample, by William Feaver, who in 2014 wrote an essay following Caro’s death the year before. Both excerpts follow below.\n",
      "“Art news from London”\n",
      "By Lawrence Alloway\n",
      "The “geometry of fear” phase of British postwar sculpture is over. The linearism of the 1940s and early ’50s is rarely seen now. Iron has declined in popularity and traditional materials are back in use. This has returned mass to sculpture. Kenneth Armitage spoke for a number of the younger sculptors when he commented on a visit to Calder Hall, Britain’s atomic power station: “A living Léger perhaps, but the excessively immaculate and organized space made me long for some dirt and untidiness.” “There was comfort,” he added, “in thinking that even here there must be a lavatory: or that somewhere, surely, a misguided spider might be laying her eggs.”\n",
      "A generalization about current British sculpture must include: solidity, traditional materials, room for spider’s eggs and a dislike of highly abstracted forms. There are exceptions, of course: Robert Adams, for example, reveals a renewed interest in Gonzalez and the now-popular Lynn Chadwick is, on the whole, outside this tendency towards non-geometric images. His metal forms, punning on the resemblance of mechanical and organic life, seem humanoids of the 1940s rather than new faces. Two sculptors who typify the present tendency (both were born in 1924 and both show at Gimpel) are Anthony Caro and Hubert Dalwood.\n",
      "With dollops of matter and unbendable projections, Caro builds up burly nudes and massive busts. The new thickness has deceived some critics. As the sculpture is not linear and as the human image is overwhelmingly insisted on, they have tried to read the figures in terms of Renaissance mechanics. Thus a pregnant woman of Caro’s was said to carry herself without a due regard to the baby’s weight. What Caro dramatizes is the emergence of human beings out of raw material. The presence of the plaster and the bronze is always part of the sculpture; its gritty mass, partly defeated by the sculptor, partly victorious over him, is always there. The untidy process of creation leaves its traces on the sculptures and this as much as the drama of the work is the action of the represented figure. The detail on these craggy figures is often indeterminate: this has the effect of siting the appearance of the sculpture somewhere between rocks and newspaper photographs.\n",
      "“Why Anthony Caro Broke the Rules”\n",
      "By William Feaver\n",
      "“A sort of digested cubist thinking is at the root of most of the interesting sculpture that’s going on,” Caro wrote to me in 1973; he was reflecting then on the legacy of Picasso and, obviously, speaking primarily for himself. As a born-again Cubist in the ways he treated his materials—clamping them, abutting them, clustering them—he upheld the philosophy of synthesis: that untiring appetite for the reconciliation of disparate parts into congruent wholes.\n",
      "His Cubism was businesslike. From Early One Morning onward, his career was geared toward the occupation of spaces, from closest indoors to greatest outdoors. He worked on such a scale that, relishing opportunities, he could locate processional quantities of his Greco-Romanesque Cubism on Park Avenue and in the Tuileries—not so much for his own satisfaction as in the belief that such grand temporary implants could do wonders for the cause of modern sculpture. Millbank Steps, a 75-foot-long array of bulwark ziggurats in Corten steel, made in 2004 for his Tate Britain retrospective the following year, was one of the last great monuments he created in this spirit of inspired bravado.\n",
      "Caro punctuated his life’s work with telling shows: at the Museum of Modern Art in 1975; in Trajan Markets in Rome in 1992, where each piece sat in its own ancient, roofless cubicle; and, most recently, at the Museo Correr in Venice, a display that, characteristically, he willed into being, against all logistical odds. The exhibitions proclaimed him the great Caro. From Hopscotch (1962) and Garland (1970) to River Song (2012), with its steel haunches housing a great red Perspex slab, this was a roll call of all that he did best.\n",
      "-------------------\n",
      "Claudia Twin Bed\n",
      "Elegant carvings and distinguished antique handles are glamorously paired with a Silver Gray finish to create this stunningly luxurious bedroom set. Round wood accents focus the high back headboard as smooth curves glide down the sides to frame the bed. Decorative nail-head trim adds luxurious detail the case goods, accentuating the silver tone handles and spacious drawers. The round mirror adds a finishing touch, providing a spacious view to keep you looking as stylish as this set.\n",
      "- Intricate Faux Wood Carvings\n",
      "- Ornamental Headboard\n",
      "- Felt-lined Top Drawers\n",
      "- Antique Metal Handles\n",
      "- Solid Wood, Wood Veneer, Others\n",
      "- Silver Gray Finish\n",
      "81 1/2\"L X 45 1/4\"W X 54\"H\n",
      "Manufacturer does not guarantee item to be in stock due to high demand, in which case a full refund will be issued on purchased items that we find out are no longer available.\n",
      "Due to variations in each individual's electronic device, actual color may vary from image shown on your screen.\n",
      "Light assembly may be required.\n",
      "Furniture of America is a proud member of the California Furniture Manufacturers Association and incorporates the latest safety and environmental regulations into all of its furniture production\n",
      "-------------------\n",
      "Transgrúas sells the Italian brand Anteo, which manufactures a wide range of machines, which we have grouped as follows:\n",
      "- Swing lifts\n",
      "- Swing/retractable lifts (offers both functions)\n",
      "- Retractable lifts\n",
      "- Column lifts\n",
      "- For handicapped\n",
      "For more information, contact our Sales Team\n",
      "To see our wide range of products, Go to Products Search.\n",
      "-------------------\n",
      "The BVRLA would like to remind users of the association’s e-Learning platform that the e-Learning survey will close next week and it would be most appreciated if you could spend a few minutes completing the questions in the survey.\n",
      "Giving key users of the platform the opportunity to provide structured feedback, the results of the survey will support the association in ensuring it is improving to consistently provide your business with what it needs.\n",
      "The survey will cover two areas, the e-Learning Management System portal – which houses the e-learning modules providing access for users and the ability for administrators to evidence track and report on learner progress – and secondly the BVRLA e-learning Packages, a group of modules that support regulated activities, learning and development for the vehicle leasing and rental sectors.\n",
      "Look out for an email with the survey link, all responses will be treated in the strictest confidence and only aggregated answers will be used.\n",
      "This survey will close on 8 December 2021.\n",
      "-------------------\n"
     ]
    }
   ],
   "source": [
    "query1_embedding = get_embedding(client,query1)[0].embedding\n",
    "query2_embedding = get_embedding(client,query2)[0].embedding\n",
    "query1_embedding = np.array(query1_embedding).reshape(1, -1)\n",
    "query2_embedding = np.array(query2_embedding).reshape(1, -1)\n",
    "distances1, indices1 = knn.kneighbors(query1_embedding)\n",
    "distances2, indices2 = knn.kneighbors(query2_embedding)\n",
    "print(\"Query 1: \", query1)\n",
    "for i in range(25):\n",
    "    print(df.iloc[indices1[0][i]].text)\n",
    "    print(\"-------------------\")\n",
    "\n",
    "print(\"###################\")\n",
    "print(\"Query 2: \", query2)\n",
    "for i in range(25):\n",
    "    print(df.iloc[indices2[0][i]].text)\n",
    "    print(\"-------------------\")"
   ]
  },
  {
   "cell_type": "code",
   "execution_count": 98,
   "metadata": {},
   "outputs": [],
   "source": [
    "# create a df with text, embed, and label columns from the 25*2 samples\n",
    "# save the df to a csv\n",
    "# %%\n",
    "import numpy as np\n",
    "import pandas as pd\n",
    "tech_df = pd.DataFrame(columns=[\"text\", \"embedding\", \"label\"])\n",
    "tech_df[\"text\"] = df.iloc[indices1[0]].text\n",
    "tech_df[\"embedding\"] = df.iloc[indices1[0]].embedding\n",
    "tech_df[\"label\"] = \"technology\"\n",
    "\n",
    "cars_df = pd.DataFrame(columns=[\"text\", \"embedding\", \"label\"])\n",
    "cars_df[\"text\"] = df.iloc[indices2[0]].text\n",
    "cars_df[\"embedding\"] = df.iloc[indices2[0]].embedding\n",
    "cars_df[\"label\"] = \"cars\"\n",
    "\n",
    "df_final = pd.concat([tech_df, cars_df])\n",
    "# save the df to pickle\n",
    "df_final.to_pickle(\"./tech_cars_df.pkl\")"
   ]
  },
  {
   "cell_type": "code",
   "execution_count": 88,
   "metadata": {},
   "outputs": [
    {
     "data": {
      "text/plain": [
       "array([ True,  True,  True, ...,  True,  True,  True])"
      ]
     },
     "execution_count": 88,
     "metadata": {},
     "output_type": "execute_result"
    }
   ],
   "source": [
    "# make sure that first text embedding is equal to result from get_embedding\n",
    "first_text = df.iloc[indices1[0][0]].text\n",
    "first_text_embedding = get_embedding(client, first_text)[0].embedding\n",
    "# S"
   ]
  }
 ],
 "metadata": {
  "kernelspec": {
   "display_name": "pytorch",
   "language": "python",
   "name": "python3"
  },
  "language_info": {
   "codemirror_mode": {
    "name": "ipython",
    "version": 3
   },
   "file_extension": ".py",
   "mimetype": "text/x-python",
   "name": "python",
   "nbconvert_exporter": "python",
   "pygments_lexer": "ipython3",
   "version": "3.8.5"
  }
 },
 "nbformat": 4,
 "nbformat_minor": 2
}
